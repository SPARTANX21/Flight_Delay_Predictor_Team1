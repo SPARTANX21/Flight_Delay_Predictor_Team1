{
 "cells": [
  {
   "cell_type": "code",
   "execution_count": null,
   "metadata": {},
   "outputs": [],
   "source": [
    "import pandas as pd\n",
    "pd.set_option(\"display.max_columns\", 70)\n",
    "pd.set_option(\"display.max_rows\", 50)\n"
   ]
  },
  {
   "cell_type": "code",
   "execution_count": null,
   "metadata": {},
   "outputs": [],
   "source": [
    "df = pd.read_parquet(r\"C:\\Users\\RKC\\Downloads\\YearData_Cleaned.parquet\")\n",
    "df.head()"
   ]
  },
  {
   "cell_type": "markdown",
   "metadata": {},
   "source": [
    "## **TAXI OUT AUTO FILLING**"
   ]
  },
  {
   "cell_type": "code",
   "execution_count": null,
   "metadata": {},
   "outputs": [
    {
     "name": "stderr",
     "output_type": "stream",
     "text": [
      "C:\\Users\\RKC\\AppData\\Local\\Temp\\ipykernel_11444\\2565829398.py:1: FutureWarning: The default of observed=False is deprecated and will be changed to True in a future version of pandas. Pass observed=False to retain current behavior or observed=True to adopt the future default and silence this warning.\n",
      "  airtaxiout = df.groupby(['Airline', 'Origin'])['TaxiOut'].agg({'mean'}); airtaxiout = airtaxiout.reset_index()\n"
     ]
    }
   ],
   "source": [
    "airtaxiout = df.groupby(['Airline', 'Origin'])['TaxiOut'].agg({'mean'}); airtaxiout = airtaxiout.reset_index()"
   ]
  },
  {
   "cell_type": "code",
   "execution_count": null,
   "metadata": {},
   "outputs": [
    {
     "data": {
      "text/plain": [
       "16.279783164028466"
      ]
     },
     "metadata": {},
     "output_type": "display_data"
    }
   ],
   "source": [
    "airtaxiout['mean'].mean()"
   ]
  },
  {
   "cell_type": "code",
   "execution_count": null,
   "metadata": {},
   "outputs": [
    {
     "data": {
      "text/plain": [
       "28"
      ]
     },
     "metadata": {},
     "output_type": "display_data"
    }
   ],
   "source": [
    "len(airtaxiout['Airline'].unique())"
   ]
  },
  {
   "cell_type": "code",
   "execution_count": null,
   "metadata": {},
   "outputs": [
    {
     "data": {
      "text/plain": [
       "['ABE', 'ABI', 'ABQ', 'ABR', 'ABY', ..., 'XNA', 'YAK', 'YKM', 'YNG', 'YUM']\n",
       "Length: 370\n",
       "Categories (370, object): ['ABE', 'ABI', 'ABQ', 'ABR', ..., 'YAK', 'YKM', 'YNG', 'YUM']"
      ]
     },
     "metadata": {},
     "output_type": "display_data"
    }
   ],
   "source": [
    "airtaxiout['Origin'].unique()"
   ]
  },
  {
   "cell_type": "code",
   "execution_count": null,
   "metadata": {},
   "outputs": [],
   "source": [
    "cleanmean = airtaxiout[airtaxiout['mean'].notna()]"
   ]
  },
  {
   "cell_type": "code",
   "execution_count": null,
   "metadata": {},
   "outputs": [],
   "source": [
    "cleanmean.to_csv(\"Taxiin_airport_origin.csv\", index=False)"
   ]
  },
  {
   "cell_type": "markdown",
   "metadata": {},
   "source": [
    "## **TAXI IN AUTO FILLING**"
   ]
  },
  {
   "cell_type": "code",
   "execution_count": null,
   "metadata": {},
   "outputs": [
    {
     "name": "stderr",
     "output_type": "stream",
     "text": [
      "C:\\Users\\RKC\\AppData\\Local\\Temp\\ipykernel_11444\\4238895937.py:1: FutureWarning: The default of observed=False is deprecated and will be changed to True in a future version of pandas. Pass observed=False to retain current behavior or observed=True to adopt the future default and silence this warning.\n",
      "  airtaxiin = df.groupby(['Airline', 'Dest'])['TaxiIn'].agg({'mean'}); airtaxiin = airtaxiin.reset_index()\n"
     ]
    }
   ],
   "source": [
    "airtaxiin = df.groupby(['Airline', 'Dest'])['TaxiIn'].agg({'mean'}); airtaxiin = airtaxiin.reset_index()"
   ]
  },
  {
   "cell_type": "code",
   "execution_count": null,
   "metadata": {},
   "outputs": [
    {
     "data": {
      "text/plain": [
       "28"
      ]
     },
     "metadata": {},
     "output_type": "display_data"
    }
   ],
   "source": [
    "len(airtaxiin['Airline'].unique())"
   ]
  },
  {
   "cell_type": "code",
   "execution_count": null,
   "metadata": {},
   "outputs": [
    {
     "data": {
      "text/plain": [
       "5.926054200085004"
      ]
     },
     "metadata": {},
     "output_type": "display_data"
    }
   ],
   "source": [
    "airtaxiin['mean'].mean()"
   ]
  },
  {
   "cell_type": "code",
   "execution_count": null,
   "metadata": {},
   "outputs": [
    {
     "data": {
      "text/plain": [
       "['ABE', 'ABI', 'ABQ', 'ABR', 'ABY', ..., 'XNA', 'YAK', 'YKM', 'YNG', 'YUM']\n",
       "Length: 370\n",
       "Categories (370, object): ['ABE', 'ABI', 'ABQ', 'ABR', ..., 'YAK', 'YKM', 'YNG', 'YUM']"
      ]
     },
     "metadata": {},
     "output_type": "display_data"
    }
   ],
   "source": [
    "airtaxiin['Dest'].unique()"
   ]
  },
  {
   "cell_type": "code",
   "execution_count": null,
   "metadata": {},
   "outputs": [],
   "source": [
    "cleanmean = airtaxiin[airtaxiin['mean'].notna()]"
   ]
  },
  {
   "cell_type": "code",
   "execution_count": null,
   "metadata": {},
   "outputs": [],
   "source": [
    "cleanmean.to_csv(\"Taxiin_airport_origin.csv\", index=False)"
   ]
  }
 ],
 "metadata": {
  "language_info": {
   "name": "python"
  }
 },
 "nbformat": 4,
 "nbformat_minor": 2
}
