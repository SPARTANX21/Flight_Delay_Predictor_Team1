{
 "cells": [
  {
   "cell_type": "code",
   "execution_count": 1,
   "id": "4f063f9c-b28f-44d1-a716-e3c34be7f607",
   "metadata": {},
   "outputs": [],
   "source": [
    "import pandas as pd"
   ]
  },
  {
   "cell_type": "code",
   "execution_count": 2,
   "id": "5c30af3f-2499-4633-9ecc-cf54ecff858b",
   "metadata": {},
   "outputs": [
    {
     "name": "stderr",
     "output_type": "stream",
     "text": [
      "/home/ec2-user/anaconda3/envs/python3/lib/python3.10/site-packages/fsspec/registry.py:283: UserWarning: Your installed version of s3fs is very old and known to cause\n",
      "severe performance issues, see also https://github.com/dask/dask/issues/10276\n",
      "\n",
      "To fix, you should specify a lower version bound on s3fs, or\n",
      "update the current installation.\n",
      "\n",
      "  warnings.warn(s3_msg)\n"
     ]
    }
   ],
   "source": [
    "df = pd.read_parquet(\"s3://group1projectbucket2/intermediate/final_sampled_flight_data_all_years (1).parquet\")"
   ]
  },
  {
   "cell_type": "code",
   "execution_count": 3,
   "id": "d66be3f9-1d5d-424c-8028-1e614a1e1898",
   "metadata": {},
   "outputs": [
    {
     "name": "stdout",
     "output_type": "stream",
     "text": [
      "(740204, 64)\n"
     ]
    }
   ],
   "source": [
    "print(df.shape)"
   ]
  },
  {
   "cell_type": "code",
   "execution_count": 4,
   "id": "9ad3f023-e8d7-495c-a848-7bb53d79ac33",
   "metadata": {},
   "outputs": [
    {
     "data": {
      "text/plain": [
       "Index(['FlightDate', 'Airline', 'Origin', 'Dest', 'Cancelled', 'Diverted',\n",
       "       'CRSDepTime', 'DepTime', 'DepDelayMinutes', 'DepDelay', 'ArrTime',\n",
       "       'ArrDelayMinutes', 'AirTime', 'CRSElapsedTime', 'ActualElapsedTime',\n",
       "       'Distance', 'Year', 'Quarter', 'Month', 'DayofMonth', 'DayOfWeek',\n",
       "       'Marketing_Airline_Network', 'Operated_or_Branded_Code_Share_Partners',\n",
       "       'DOT_ID_Marketing_Airline', 'IATA_Code_Marketing_Airline',\n",
       "       'Flight_Number_Marketing_Airline', 'Operating_Airline',\n",
       "       'DOT_ID_Operating_Airline', 'IATA_Code_Operating_Airline',\n",
       "       'Tail_Number', 'Flight_Number_Operating_Airline', 'OriginAirportID',\n",
       "       'OriginAirportSeqID', 'OriginCityMarketID', 'OriginCityName',\n",
       "       'OriginState', 'OriginStateFips', 'OriginStateName', 'OriginWac',\n",
       "       'DestAirportID', 'DestAirportSeqID', 'DestCityMarketID', 'DestCityName',\n",
       "       'DestState', 'DestStateFips', 'DestStateName', 'DestWac', 'DepDel15',\n",
       "       'DepartureDelayGroups', 'DepTimeBlk', 'TaxiOut', 'WheelsOff',\n",
       "       'WheelsOn', 'TaxiIn', 'CRSArrTime', 'ArrDelay', 'ArrDel15',\n",
       "       'ArrivalDelayGroups', 'ArrTimeBlk', 'DistanceGroup',\n",
       "       'DivAirportLandings', 'Day', 'Hour', 'Date'],\n",
       "      dtype='object')"
      ]
     },
     "execution_count": 4,
     "metadata": {},
     "output_type": "execute_result"
    }
   ],
   "source": [
    "df.columns"
   ]
  },
  {
   "cell_type": "code",
   "execution_count": 5,
   "id": "bfe35700-d480-4ccf-98d6-d972e66744dd",
   "metadata": {},
   "outputs": [
    {
     "name": "stdout",
     "output_type": "stream",
     "text": [
      "       FlightDate                 Airline Origin Dest  Cancelled  Diverted  \\\n",
      "0      2018-01-01    Alaska Airlines Inc.    LAX  SEA      False     False   \n",
      "1      2018-01-01  Southwest Airlines Co.    DEN  SFO      False     False   \n",
      "2      2018-01-01   United Air Lines Inc.    DEN  SFO      False     False   \n",
      "3      2018-01-01    Delta Air Lines Inc.    OAK  SLC      False     False   \n",
      "4      2018-01-01   United Air Lines Inc.    DFW  LAX      False     False   \n",
      "...           ...                     ...    ...  ...        ...       ...   \n",
      "748268 2022-07-31  Frontier Airlines Inc.    LAS  PHL      False     False   \n",
      "748270 2022-07-31    Delta Air Lines Inc.    PDX  ATL      False     False   \n",
      "748271 2022-07-31        Spirit Air Lines    LAX  DFW      False     False   \n",
      "748272 2022-07-31    Delta Air Lines Inc.    LAS  ATL      False     False   \n",
      "748273 2022-07-31  Southwest Airlines Co.    SMF  LAS      False     False   \n",
      "\n",
      "        SchdDepTime DepTime  DepDelayMinutes  DepDelay  ...  SchdArrTime  \\\n",
      "0              2335   00:57             82.0      82.0  ...          233   \n",
      "1              2225   01:18            173.0     173.0  ...           15   \n",
      "2               537   05:33              0.0      -4.0  ...          722   \n",
      "3               600   05:59              0.0      -1.0  ...          850   \n",
      "4               545   05:39              0.0      -6.0  ...          734   \n",
      "...             ...     ...              ...       ...  ...          ...   \n",
      "748268         2230   23:11             41.0      41.0  ...          630   \n",
      "748270         2357   23:49              0.0      -8.0  ...          730   \n",
      "748271         2315   23:38             23.0      23.0  ...          427   \n",
      "748272         2335   23:39              4.0       4.0  ...          623   \n",
      "748273         2225   23:55             90.0      90.0  ...         2345   \n",
      "\n",
      "        ArrDelay  ArrDel15  ArrivalDelayGroups  ArrTimeBlk  DistanceGroup  \\\n",
      "0           50.0       1.0                 3.0   0001-0559              4   \n",
      "1          154.0       1.0                10.0   0001-0559              4   \n",
      "2           -8.0       0.0                -1.0   0700-0759              4   \n",
      "3          -12.0       0.0                -1.0   0800-0859              3   \n",
      "4          -14.0       0.0                -1.0   0700-0759              5   \n",
      "...          ...       ...                 ...         ...            ...   \n",
      "748268       9.0       0.0                 0.0   0600-0659              9   \n",
      "748270     -22.0       0.0                -2.0   0700-0759              9   \n",
      "748271      14.0       0.0                 0.0   0001-0559              5   \n",
      "748272       6.0       0.0                 0.0   0600-0659              7   \n",
      "748273      81.0       1.0                 5.0   2300-2359              2   \n",
      "\n",
      "        DivAirportLandings         Day  Hour        Date  \n",
      "0                      0.0  2018-01-01   0.0  2018-01-01  \n",
      "1                      0.0  2018-01-01   1.0  2018-01-01  \n",
      "2                      0.0  2018-01-01   5.0  2018-01-01  \n",
      "3                      0.0  2018-01-01   5.0  2018-01-01  \n",
      "4                      0.0  2018-01-01   5.0  2018-01-01  \n",
      "...                    ...         ...   ...         ...  \n",
      "748268                 0.0  2022-07-31  23.0  2022-07-31  \n",
      "748270                 0.0  2022-07-31  23.0  2022-07-31  \n",
      "748271                 0.0  2022-07-31  23.0  2022-07-31  \n",
      "748272                 0.0  2022-07-31  23.0  2022-07-31  \n",
      "748273                 0.0  2022-07-31  23.0  2022-07-31  \n",
      "\n",
      "[740204 rows x 64 columns]\n"
     ]
    }
   ],
   "source": [
    "rename_dict = {\n",
    "    \"CRSArrTime\": \"SchdArrTime\",\n",
    "    \"CRSDepTime\": \"SchdDepTime\",\n",
    "    \"CRSElapsedTime\": \"SchdElapsedTime\"\n",
    "}\n",
    "\n",
    "# Rename columns\n",
    "df.rename(columns=rename_dict, inplace=True)\n",
    "\n",
    "# Show updated DataFrame\n",
    "print(df)"
   ]
  },
  {
   "cell_type": "code",
   "execution_count": 6,
   "id": "babee659-d4de-40aa-aea0-2ca8f8140494",
   "metadata": {},
   "outputs": [
    {
     "data": {
      "text/plain": [
       "Index(['FlightDate', 'Airline', 'Origin', 'Dest', 'Cancelled', 'Diverted',\n",
       "       'SchdDepTime', 'DepTime', 'DepDelayMinutes', 'DepDelay', 'ArrTime',\n",
       "       'ArrDelayMinutes', 'AirTime', 'SchdElapsedTime', 'ActualElapsedTime',\n",
       "       'Distance', 'Year', 'Quarter', 'Month', 'DayofMonth', 'DayOfWeek',\n",
       "       'Marketing_Airline_Network', 'Operated_or_Branded_Code_Share_Partners',\n",
       "       'DOT_ID_Marketing_Airline', 'IATA_Code_Marketing_Airline',\n",
       "       'Flight_Number_Marketing_Airline', 'Operating_Airline',\n",
       "       'DOT_ID_Operating_Airline', 'IATA_Code_Operating_Airline',\n",
       "       'Tail_Number', 'Flight_Number_Operating_Airline', 'OriginAirportID',\n",
       "       'OriginAirportSeqID', 'OriginCityMarketID', 'OriginCityName',\n",
       "       'OriginState', 'OriginStateFips', 'OriginStateName', 'OriginWac',\n",
       "       'DestAirportID', 'DestAirportSeqID', 'DestCityMarketID', 'DestCityName',\n",
       "       'DestState', 'DestStateFips', 'DestStateName', 'DestWac', 'DepDel15',\n",
       "       'DepartureDelayGroups', 'DepTimeBlk', 'TaxiOut', 'WheelsOff',\n",
       "       'WheelsOn', 'TaxiIn', 'SchdArrTime', 'ArrDelay', 'ArrDel15',\n",
       "       'ArrivalDelayGroups', 'ArrTimeBlk', 'DistanceGroup',\n",
       "       'DivAirportLandings', 'Day', 'Hour', 'Date'],\n",
       "      dtype='object')"
      ]
     },
     "execution_count": 6,
     "metadata": {},
     "output_type": "execute_result"
    }
   ],
   "source": [
    "df.columns"
   ]
  },
  {
   "cell_type": "code",
   "execution_count": 7,
   "id": "58c87034-00d6-4d5a-87df-166db6aa5322",
   "metadata": {},
   "outputs": [],
   "source": [
    "import pandas as pd\n",
    "import numpy as np\n",
    "\n",
    "# Assuming df is your Pandas DataFrame\n",
    "\n",
    "# Ensure SchdDepTime is a string with 4 digits (left pad with zeros if needed)\n",
    "df['SchdDepTime'] = df['SchdDepTime'].astype(str).str.zfill(4)\n",
    "\n",
    "# Extract SchdDepHour (first two digits of SchdDepTime)\n",
    "df['SchdDepHour'] = df['SchdDepTime'].str[:2].astype(int)\n",
    "\n",
    "# Categorize into different time periods of the day\n",
    "df['SchdDepTimeOfDay'] = np.select(\n",
    "    [\n",
    "        (df['SchdDepHour'] >= 0) & (df['SchdDepHour'] < 6),\n",
    "        (df['SchdDepHour'] >= 6) & (df['SchdDepHour'] < 12),\n",
    "        (df['SchdDepHour'] >= 12) & (df['SchdDepHour'] < 18)\n",
    "    ],\n",
    "    ['Night', 'Morning', 'Afternoon'],\n",
    "    default='Evening'\n",
    ")\n",
    "\n",
    "# Categorize DelayCategory based on ArrDelayMinutes\n",
    "df['DelayCategory'] = np.select(\n",
    "    [\n",
    "        df['ArrDelayMinutes'] < 15,\n",
    "        (df['ArrDelayMinutes'] >= 15) & (df['ArrDelayMinutes'] < 60),\n",
    "        (df['ArrDelayMinutes'] >= 60) & (df['ArrDelayMinutes'] < 120),\n",
    "        (df['ArrDelayMinutes'] >= 120) & (df['ArrDelayMinutes'] < 180)\n",
    "    ],\n",
    "    ['No Delay', 'Short Delay', 'Medium Delay', 'Long Delay'],\n",
    "    default='Very Long Delay'\n",
    ")\n"
   ]
  },
  {
   "cell_type": "code",
   "execution_count": 8,
   "id": "87d7238d-15fa-457f-b768-f6c1905e6465",
   "metadata": {},
   "outputs": [
    {
     "data": {
      "text/plain": [
       "Index(['FlightDate', 'Airline', 'Origin', 'Dest', 'Cancelled', 'Diverted',\n",
       "       'SchdDepTime', 'DepTime', 'DepDelayMinutes', 'DepDelay', 'ArrTime',\n",
       "       'ArrDelayMinutes', 'AirTime', 'SchdElapsedTime', 'ActualElapsedTime',\n",
       "       'Distance', 'Year', 'Quarter', 'Month', 'DayofMonth', 'DayOfWeek',\n",
       "       'Marketing_Airline_Network', 'Operated_or_Branded_Code_Share_Partners',\n",
       "       'DOT_ID_Marketing_Airline', 'IATA_Code_Marketing_Airline',\n",
       "       'Flight_Number_Marketing_Airline', 'Operating_Airline',\n",
       "       'DOT_ID_Operating_Airline', 'IATA_Code_Operating_Airline',\n",
       "       'Tail_Number', 'Flight_Number_Operating_Airline', 'OriginAirportID',\n",
       "       'OriginAirportSeqID', 'OriginCityMarketID', 'OriginCityName',\n",
       "       'OriginState', 'OriginStateFips', 'OriginStateName', 'OriginWac',\n",
       "       'DestAirportID', 'DestAirportSeqID', 'DestCityMarketID', 'DestCityName',\n",
       "       'DestState', 'DestStateFips', 'DestStateName', 'DestWac', 'DepDel15',\n",
       "       'DepartureDelayGroups', 'DepTimeBlk', 'TaxiOut', 'WheelsOff',\n",
       "       'WheelsOn', 'TaxiIn', 'SchdArrTime', 'ArrDelay', 'ArrDel15',\n",
       "       'ArrivalDelayGroups', 'ArrTimeBlk', 'DistanceGroup',\n",
       "       'DivAirportLandings', 'Day', 'Hour', 'Date', 'SchdDepHour',\n",
       "       'SchdDepTimeOfDay', 'DelayCategory'],\n",
       "      dtype='object')"
      ]
     },
     "execution_count": 8,
     "metadata": {},
     "output_type": "execute_result"
    }
   ],
   "source": [
    "df.columns"
   ]
  },
  {
   "cell_type": "code",
   "execution_count": 9,
   "id": "bebfd674-af01-4743-b718-d781d5a769e2",
   "metadata": {},
   "outputs": [],
   "source": [
    "df[\"IsWeekend\"] = df[\"DayOfWeek\"].apply(lambda x: 1 if x in [6, 7] else 0)"
   ]
  },
  {
   "cell_type": "code",
   "execution_count": 10,
   "id": "93c4e524-b189-47c4-a975-c20c6f7d9590",
   "metadata": {},
   "outputs": [],
   "source": [
    "columns_to_remove = [\n",
    "    # Columns directly related to the target (leakage)\n",
    "    \"ArrDelayMinutes\", \"ArrDelay\", \"ArrDel15\", \"ArrivalDelayGroups\", \"ArrTimeBlk\",\n",
    "    \n",
    "    # Columns with unique identifiers or irrelevant information\n",
    "    \"Tail_Number\", \"Flight_Number_Marketing_Airline\", \"Flight_Number_Operating_Airline\",\n",
    "    \"OriginAirportSeqID\", \"DestAirportSeqID\", \"OriginCityMarketID\", \"DestCityMarketID\",\n",
    "    \"OriginStateFips\", \"DestStateFips\", \"OriginWac\", \"DestWac\", \"DOT_ID_Marketing_Airline\",\n",
    "    \"DOT_ID_Operating_Airline\",\"SchdDepTimeOfDay\",\n",
    "    \n",
    "    # Redundant columns (highly correlated with others)\n",
    "    \"DepDelay\", \"DepDel15\", \"DepartureDelayGroups\", \"DepTimeBlk\",\"DivAirportLandings\", \"DistanceGroup\",\n",
    "    \n",
    "    # Columns with duplicate or similar information\n",
    "    \"OriginAirportID\", \"DestAirportID\",  # Use Origin and Dest instead\n",
    "    \"IATA_Code_Marketing_Airline\", \"IATA_Code_Operating_Airline\",  # Use Airline and Operating_Airline instead\n",
    "    \"OriginState\", \"DestState\",  # Use OriginStateName and DestStateName instead\n",
    "    \"Marketing_Airline_Network\", \"Operated_or_Branded_Code_Share_Partners\",  # Use Airline and Operating_Airline instead\n",
    "    \"DepTime\", \"DepDelayMinutes\", \"ArrTime\", \"AirTime\",  # Numerical columns\n",
    "    \"Operating_Airline\", \"OriginCityName\", \"DestCityName\",  # Categorical columns\n",
    "    \"FlightDate\",\"SchdDepTime\",\"SchdElapsedTime\",\"ActualElapsedTime\",\"Distance\"\n",
    "]"
   ]
  },
  {
   "cell_type": "code",
   "execution_count": 11,
   "id": "3dc58498-0421-4378-917c-36b56e8673ae",
   "metadata": {},
   "outputs": [],
   "source": [
    "df = df.drop(columns=columns_to_remove)"
   ]
  },
  {
   "cell_type": "code",
   "execution_count": 12,
   "id": "20c51a5d-2ad4-4f92-99eb-17715306f7d9",
   "metadata": {},
   "outputs": [
    {
     "data": {
      "text/plain": [
       "Index(['Airline', 'Origin', 'Dest', 'Cancelled', 'Diverted', 'Year', 'Quarter',\n",
       "       'Month', 'DayofMonth', 'DayOfWeek', 'OriginStateName', 'DestStateName',\n",
       "       'TaxiOut', 'WheelsOff', 'WheelsOn', 'TaxiIn', 'SchdArrTime', 'Day',\n",
       "       'Hour', 'Date', 'SchdDepHour', 'DelayCategory', 'IsWeekend'],\n",
       "      dtype='object')"
      ]
     },
     "execution_count": 12,
     "metadata": {},
     "output_type": "execute_result"
    }
   ],
   "source": [
    "df.columns"
   ]
  },
  {
   "cell_type": "code",
   "execution_count": 13,
   "id": "9f2944b0-da6e-42a7-bb3a-3dac4ebdc40b",
   "metadata": {},
   "outputs": [],
   "source": [
    "col_to_remove=[\"Cancelled\",\"Diverted\", \"Day\", \"Hour\", \"Date\"]\n",
    "df = df.drop(columns=col_to_remove)"
   ]
  },
  {
   "cell_type": "code",
   "execution_count": 14,
   "id": "477201bd-4c08-4259-8485-635a679f11cf",
   "metadata": {},
   "outputs": [
    {
     "data": {
      "text/plain": [
       "Index(['Airline', 'Origin', 'Dest', 'Year', 'Quarter', 'Month', 'DayofMonth',\n",
       "       'DayOfWeek', 'OriginStateName', 'DestStateName', 'TaxiOut', 'WheelsOff',\n",
       "       'WheelsOn', 'TaxiIn', 'SchdArrTime', 'SchdDepHour', 'DelayCategory',\n",
       "       'IsWeekend'],\n",
       "      dtype='object')"
      ]
     },
     "execution_count": 14,
     "metadata": {},
     "output_type": "execute_result"
    }
   ],
   "source": [
    "df.columns"
   ]
  },
  {
   "cell_type": "code",
   "execution_count": 15,
   "id": "2a81de32-0a5f-41e2-8f6d-9e38f9d8da89",
   "metadata": {},
   "outputs": [],
   "source": [
    "df=df.drop(columns=[\"OriginStateName\", \"DestStateName\"])"
   ]
  },
  {
   "cell_type": "code",
   "execution_count": 16,
   "id": "13ef0a04-5ade-40b4-b7f4-3838162a9886",
   "metadata": {},
   "outputs": [
    {
     "data": {
      "text/plain": [
       "Index(['Airline', 'Origin', 'Dest', 'Year', 'Quarter', 'Month', 'DayofMonth',\n",
       "       'DayOfWeek', 'TaxiOut', 'WheelsOff', 'WheelsOn', 'TaxiIn',\n",
       "       'SchdArrTime', 'SchdDepHour', 'DelayCategory', 'IsWeekend'],\n",
       "      dtype='object')"
      ]
     },
     "execution_count": 16,
     "metadata": {},
     "output_type": "execute_result"
    }
   ],
   "source": [
    "df.columns"
   ]
  },
  {
   "cell_type": "code",
   "execution_count": 17,
   "id": "7ffcf139-9e38-4394-9a0f-463723aa50f2",
   "metadata": {},
   "outputs": [],
   "source": [
    "bins = [0, 6, 12, 18, 24]\n",
    "labels = ['Night', 'Morning', 'Afternoon', 'Evening']\n",
    "df['SchdDepTimeOfDay'] = pd.cut(df['SchdDepHour'], bins=bins, labels=labels, right=False)"
   ]
  },
  {
   "cell_type": "code",
   "execution_count": 18,
   "id": "eeaf3b84-0f4a-4252-85d7-87cc30512c06",
   "metadata": {},
   "outputs": [
    {
     "name": "stdout",
     "output_type": "stream",
     "text": [
      "0           Alaska Airlines Inc.\n",
      "1         Southwest Airlines Co.\n",
      "2          United Air Lines Inc.\n",
      "3           Delta Air Lines Inc.\n",
      "4          United Air Lines Inc.\n",
      "                   ...          \n",
      "748268    Frontier Airlines Inc.\n",
      "748270      Delta Air Lines Inc.\n",
      "748271          Spirit Air Lines\n",
      "748272      Delta Air Lines Inc.\n",
      "748273    Southwest Airlines Co.\n",
      "Name: Airline, Length: 740204, dtype: object\n"
     ]
    }
   ],
   "source": [
    "print(df['Airline'])  # Prints the entire column\n"
   ]
  },
  {
   "cell_type": "code",
   "execution_count": 19,
   "id": "1dd1d29e-5250-4d74-a7c9-ed335045f0b4",
   "metadata": {},
   "outputs": [],
   "source": [
    "categorical_cols = ['Airline', 'Origin', 'Dest', 'SchdDepTimeOfDay']\n",
    "numerical_cols = [\n",
    "    \"SchdDepHour\", \"Year\", \"Quarter\", \"Month\", \"DayofMonth\", \"DayOfWeek\",\n",
    "    \"TaxiOut\", \"WheelsOff\", \"WheelsOn\", \"TaxiIn\", \"SchdArrTime\", \"IsWeekend\"\n",
    "]"
   ]
  },
  {
   "cell_type": "code",
   "execution_count": 20,
   "id": "feadbcf7-2de6-4980-9932-0bbca5c2bae0",
   "metadata": {},
   "outputs": [],
   "source": [
    "X = df.drop(columns=[\"DelayCategory\"])"
   ]
  },
  {
   "cell_type": "code",
   "execution_count": 21,
   "id": "f811a5ca-bef6-49c2-b787-2dc7fdfc80d8",
   "metadata": {},
   "outputs": [
    {
     "data": {
      "text/plain": [
       "Index(['Airline', 'Origin', 'Dest', 'Year', 'Quarter', 'Month', 'DayofMonth',\n",
       "       'DayOfWeek', 'TaxiOut', 'WheelsOff', 'WheelsOn', 'TaxiIn',\n",
       "       'SchdArrTime', 'SchdDepHour', 'IsWeekend', 'SchdDepTimeOfDay'],\n",
       "      dtype='object')"
      ]
     },
     "execution_count": 21,
     "metadata": {},
     "output_type": "execute_result"
    }
   ],
   "source": [
    "X.columns"
   ]
  },
  {
   "cell_type": "code",
   "execution_count": 22,
   "id": "7a0eb983-bee1-4b16-9d1b-0ae2b44a5a21",
   "metadata": {},
   "outputs": [],
   "source": [
    "y = df[\"DelayCategory\"]  # Target"
   ]
  },
  {
   "cell_type": "code",
   "execution_count": 24,
   "id": "01a5a66e-62d8-48f8-a4fd-037e5726415d",
   "metadata": {},
   "outputs": [
    {
     "data": {
      "text/plain": [
       "16"
      ]
     },
     "execution_count": 24,
     "metadata": {},
     "output_type": "execute_result"
    }
   ],
   "source": [
    "len(X.columns)"
   ]
  },
  {
   "cell_type": "code",
   "execution_count": 25,
   "id": "f94ab42f-8333-404e-8668-f05a98019255",
   "metadata": {},
   "outputs": [],
   "source": [
    "import joblib\n"
   ]
  },
  {
   "cell_type": "code",
   "execution_count": 26,
   "id": "235b9981-d18e-43f0-813d-a172086343d2",
   "metadata": {},
   "outputs": [],
   "source": [
    "import pandas as pd\n",
    "from sklearn.model_selection import train_test_split\n",
    "from sklearn.preprocessing import LabelEncoder, OneHotEncoder, StandardScaler\n",
    "from sklearn.compose import ColumnTransformer\n",
    "from sklearn.pipeline import Pipeline\n",
    "from sklearn.ensemble import RandomForestClassifier\n",
    "from sklearn.impute import SimpleImputer\n",
    "from sklearn.metrics import classification_report"
   ]
  },
  {
   "cell_type": "code",
   "execution_count": 27,
   "id": "76df7264-b811-4ff2-bec7-eece3d655cdf",
   "metadata": {},
   "outputs": [],
   "source": [
    "X_train, X_test, y_train, y_test = train_test_split(X, y, test_size=0.2, random_state=42)"
   ]
  },
  {
   "cell_type": "code",
   "execution_count": 28,
   "id": "4679f304-affb-4d03-8adb-ae65fca3cf33",
   "metadata": {},
   "outputs": [],
   "source": [
    "# Preprocessing pipeline\n",
    "preprocessor = ColumnTransformer(\n",
    "    transformers=[\n",
    "        (\"num\", StandardScaler(), numerical_cols),  # Scale numerical features\n",
    "        (\"cat\", OneHotEncoder(handle_unknown=\"ignore\"), categorical_cols),  # One-hot encode categorical features\n",
    "    ]\n",
    ")"
   ]
  },
  {
   "cell_type": "code",
   "execution_count": 29,
   "id": "d5f9c54c-ecd9-444a-84ee-0e10762febeb",
   "metadata": {},
   "outputs": [],
   "source": [
    "# Fit on training data\n",
    "X_train = preprocessor.fit_transform(X_train)"
   ]
  },
  {
   "cell_type": "code",
   "execution_count": 30,
   "id": "f0667203-41a1-4197-adab-260b560cc7e5",
   "metadata": {},
   "outputs": [
    {
     "name": "stdout",
     "output_type": "stream",
     "text": [
      "Preprocessor saved as preprocessor.joblib\n"
     ]
    }
   ],
   "source": [
    "import joblib\n",
    "\n",
    "# Save the preprocessor as a .joblib file\n",
    "joblib.dump(preprocessor, \"preprocessor.joblib\")\n",
    "\n",
    "print(\"Preprocessor saved as preprocessor.joblib\")\n"
   ]
  },
  {
   "cell_type": "code",
   "execution_count": 31,
   "id": "e031a363-24c3-408b-924e-0d572649d9d9",
   "metadata": {},
   "outputs": [],
   "source": [
    "# Transform test data\n",
    "X_test = preprocessor.transform(X_test)"
   ]
  },
  {
   "cell_type": "code",
   "execution_count": 32,
   "id": "79cc2b6f-6cd9-4eff-949a-be6de1b64412",
   "metadata": {},
   "outputs": [],
   "source": [
    "# Encode target labels\n",
    "label_encoder = LabelEncoder()\n",
    "y_train = label_encoder.fit_transform(y_train)"
   ]
  },
  {
   "cell_type": "code",
   "execution_count": 33,
   "id": "5a783ba5-590b-4fa1-add5-1b98bd1e738d",
   "metadata": {},
   "outputs": [
    {
     "name": "stdout",
     "output_type": "stream",
     "text": [
      "Label encoder saved as label_encoder.joblib\n"
     ]
    }
   ],
   "source": [
    "import joblib\n",
    "\n",
    "# Save the label encoder as a .joblib file\n",
    "joblib.dump(label_encoder, \"label_encoder.joblib\")\n",
    "\n",
    "print(\"Label encoder saved as label_encoder.joblib\")\n"
   ]
  },
  {
   "cell_type": "code",
   "execution_count": 34,
   "id": "56203b3e-82b7-48a8-af2a-de389aace336",
   "metadata": {},
   "outputs": [],
   "source": [
    "# Transform test labels\n",
    "y_test = label_encoder.transform(y_test)"
   ]
  },
  {
   "cell_type": "code",
   "execution_count": 35,
   "id": "a286adc8-eb8a-45f2-ae97-40411385ea44",
   "metadata": {},
   "outputs": [
    {
     "name": "stdout",
     "output_type": "stream",
     "text": [
      "(592163, 818) (592163,) (148041, 818) (148041,)\n"
     ]
    }
   ],
   "source": [
    "print(X_train.shape,y_train.shape,X_test.shape,y_test.shape)"
   ]
  },
  {
   "cell_type": "code",
   "execution_count": 36,
   "id": "14092b6c-2b63-4aae-8505-5417f21c98e6",
   "metadata": {},
   "outputs": [
    {
     "data": {
      "text/plain": [
       "{'Long Delay': 0,\n",
       " 'Medium Delay': 1,\n",
       " 'No Delay': 2,\n",
       " 'Short Delay': 3,\n",
       " 'Very Long Delay': 4}"
      ]
     },
     "execution_count": 36,
     "metadata": {},
     "output_type": "execute_result"
    }
   ],
   "source": [
    "label_mapping = {class_label: index for index, class_label in enumerate(label_encoder.classes_)}\n",
    "label_mapping"
   ]
  },
  {
   "cell_type": "code",
   "execution_count": 37,
   "id": "6c9f0f74-11db-4c37-9f74-766cd14a8217",
   "metadata": {},
   "outputs": [
    {
     "name": "stdout",
     "output_type": "stream",
     "text": [
      "Original Label: Long Delay -> Encoded Value: 0\n",
      "Original Label: Medium Delay -> Encoded Value: 1\n",
      "Original Label: No Delay -> Encoded Value: 2\n",
      "Original Label: Short Delay -> Encoded Value: 3\n",
      "Original Label: Very Long Delay -> Encoded Value: 4\n"
     ]
    }
   ],
   "source": [
    "for index, class_label in enumerate(label_encoder.classes_):\n",
    "    print(f\"Original Label: {class_label} -> Encoded Value: {index}\")\n"
   ]
  },
  {
   "cell_type": "code",
   "execution_count": 38,
   "id": "197a6973-db07-40a7-b9d8-11ddd037ce46",
   "metadata": {},
   "outputs": [
    {
     "name": "stdout",
     "output_type": "stream",
     "text": [
      "Collecting xgboost\n",
      "  Downloading xgboost-2.1.4-py3-none-manylinux2014_x86_64.whl.metadata (2.0 kB)\n",
      "Requirement already satisfied: pandas in /home/ec2-user/anaconda3/envs/python3/lib/python3.10/site-packages (1.5.3)\n",
      "Requirement already satisfied: scikit-learn in /home/ec2-user/anaconda3/envs/python3/lib/python3.10/site-packages (1.6.1)\n",
      "Requirement already satisfied: numpy in /home/ec2-user/anaconda3/envs/python3/lib/python3.10/site-packages (from xgboost) (1.26.4)\n",
      "Requirement already satisfied: scipy in /home/ec2-user/anaconda3/envs/python3/lib/python3.10/site-packages (from xgboost) (1.15.1)\n",
      "Requirement already satisfied: python-dateutil>=2.8.1 in /home/ec2-user/anaconda3/envs/python3/lib/python3.10/site-packages (from pandas) (2.9.0.post0)\n",
      "Requirement already satisfied: pytz>=2020.1 in /home/ec2-user/anaconda3/envs/python3/lib/python3.10/site-packages (from pandas) (2024.2)\n",
      "Requirement already satisfied: joblib>=1.2.0 in /home/ec2-user/anaconda3/envs/python3/lib/python3.10/site-packages (from scikit-learn) (1.4.2)\n",
      "Requirement already satisfied: threadpoolctl>=3.1.0 in /home/ec2-user/anaconda3/envs/python3/lib/python3.10/site-packages (from scikit-learn) (3.5.0)\n",
      "Requirement already satisfied: six>=1.5 in /home/ec2-user/anaconda3/envs/python3/lib/python3.10/site-packages (from python-dateutil>=2.8.1->pandas) (1.17.0)\n",
      "Downloading xgboost-2.1.4-py3-none-manylinux2014_x86_64.whl (4.5 MB)\n",
      "\u001b[2K   \u001b[90m━━━━━━━━━━━━━━━━━━━━━━━━━━━━━━━━━━━━━━━━\u001b[0m \u001b[32m4.5/4.5 MB\u001b[0m \u001b[31m109.6 MB/s\u001b[0m eta \u001b[36m0:00:00\u001b[0m\n",
      "Installing collected packages: xgboost\n",
      "Successfully installed xgboost-2.1.4\n",
      "Note: you may need to restart the kernel to use updated packages.\n"
     ]
    }
   ],
   "source": [
    "%pip install xgboost pandas scikit-learn"
   ]
  },
  {
   "cell_type": "code",
   "execution_count": 39,
   "id": "85ad35b9-7246-4918-99f2-e65ddba89ae6",
   "metadata": {},
   "outputs": [
    {
     "name": "stderr",
     "output_type": "stream",
     "text": [
      "/home/ec2-user/anaconda3/envs/python3/lib/python3.10/site-packages/xgboost/core.py:265: FutureWarning: Your system has an old version of glibc (< 2.28). We will stop supporting Linux distros with glibc older than 2.28 after **May 31, 2025**. Please upgrade to a recent Linux distro (with glibc 2.28+) to use future versions of XGBoost.\n",
      "Note: You have installed the 'manylinux2014' variant of XGBoost. Certain features such as GPU algorithms or federated learning are not available. To use these features, please upgrade to a recent Linux distro with glibc 2.28+, and install the 'manylinux_2_28' variant.\n",
      "  warnings.warn(\n"
     ]
    }
   ],
   "source": [
    "from xgboost import XGBClassifier\n",
    "from sklearn.metrics import accuracy_score, classification_report"
   ]
  },
  {
   "cell_type": "code",
   "execution_count": 40,
   "id": "a114e8bf-2e18-4f7c-98fd-c676b8db0fde",
   "metadata": {},
   "outputs": [],
   "source": [
    "from xgboost import XGBClassifier"
   ]
  },
  {
   "cell_type": "code",
   "execution_count": null,
   "id": "044c79b5-5cbd-4d33-83d1-52d642545a6c",
   "metadata": {},
   "outputs": [
    {
     "name": "stderr",
     "output_type": "stream",
     "text": [
      "/home/ec2-user/anaconda3/envs/python3/lib/python3.10/site-packages/xgboost/core.py:158: UserWarning: [07:15:40] WARNING: /workspace/src/learner.cc:740: \n",
      "Parameters: { \"use_label_encoder\" } are not used.\n",
      "\n",
      "  warnings.warn(smsg, UserWarning)\n"
     ]
    }
   ],
   "source": [
    "# Initialize the model\n",
    "xgb = XGBClassifier(random_state=42, use_label_encoder=False, eval_metric='logloss')\n",
    "\n",
    "# Train the model\n",
    "xgb.fit(X_train, y_train)\n",
    "\n",
    "# Predict on the test set\n",
    "y_pred_xgb = xgb.predict(X_test)\n",
    "\n",
    "# Evaluate accuracy\n",
    "accuracy_xgb = accuracy_score(y_test, y_pred_xgb)\n",
    "print(f\"XGBoost Accuracy: {accuracy_xgb:.4f}\")\n",
    "print(classification_report(y_test, y_pred_xgb))"
   ]
  },
  {
   "cell_type": "code",
   "execution_count": null,
   "id": "3b28dab6-1786-48dc-bfc1-17ef72fc65ec",
   "metadata": {},
   "outputs": [],
   "source": [
    "from sklearn.metrics import confusion_matrix, classification_report\n",
    "import seaborn as sns\n",
    "import matplotlib.pyplot as plt\n",
    "\n",
    "# Compute confusion matrix\n",
    "cm = confusion_matrix(y_test, y_pred_xgb)\n",
    "\n",
    "# Retrieve class labels from the label encoder\n",
    "class_labels = label_encoder.classes_  # Gets the original category names\n",
    "\n",
    "# Print confusion matrix\n",
    "print(\"Confusion Matrix:\")\n",
    "print(cm)\n",
    "\n",
    "# Plot confusion matrix\n",
    "plt.figure(figsize=(6, 5))\n",
    "sns.heatmap(cm, annot=True, fmt='d', cmap='Blues', xticklabels=class_labels, yticklabels=class_labels)\n",
    "plt.xlabel('Predicted')\n",
    "plt.ylabel('Actual')\n",
    "plt.title('Confusion Matrix')\n",
    "plt.show()\n"
   ]
  },
  {
   "cell_type": "code",
   "execution_count": null,
   "id": "b8e1a56b-e24f-410d-9458-802558c023ec",
   "metadata": {},
   "outputs": [],
   "source": [
    "import joblib\n",
    "\n",
    "# Save the trained model as a joblib file\n",
    "model_filename = \"xgboost_model.joblib\"\n",
    "joblib.dump(xgb, model_filename)\n",
    "\n",
    "print(f\"Model saved as {model_filename}\")\n"
   ]
  },
  {
   "cell_type": "code",
   "execution_count": null,
   "id": "76727c8f-e2aa-4a52-b307-ace6983c2a0a",
   "metadata": {},
   "outputs": [],
   "source": [
    "import pickle\n",
    "\n",
    "# Save the trained model as a pickle file\n",
    "model_filename = \"xgboost_model.pkl\"\n",
    "with open(model_filename, \"wb\") as file:\n",
    "    pickle.dump(xgb, file)\n",
    "\n",
    "print(f\"Model saved as {model_filename}\")\n"
   ]
  },
  {
   "cell_type": "code",
   "execution_count": null,
   "id": "8ab55c4a-39e4-4da1-aa7c-42c72da4bfbc",
   "metadata": {},
   "outputs": [],
   "source": [
    "from sklearn.metrics import f1_score\n",
    "\n",
    "# Calculate the F1-score\n",
    "f1 = f1_score(y_test, y_pred_xgb, average=\"weighted\")  # Use 'weighted' for multiclass classification\n",
    "\n",
    "print(f\"F1 Score: {f1:.4f}\")\n"
   ]
  }
 ],
 "metadata": {
  "kernelspec": {
   "display_name": "conda_python3",
   "language": "python",
   "name": "conda_python3"
  },
  "language_info": {
   "codemirror_mode": {
    "name": "ipython",
    "version": 3
   },
   "file_extension": ".py",
   "mimetype": "text/x-python",
   "name": "python",
   "nbconvert_exporter": "python",
   "pygments_lexer": "ipython3",
   "version": "3.10.16"
  }
 },
 "nbformat": 4,
 "nbformat_minor": 5
}
