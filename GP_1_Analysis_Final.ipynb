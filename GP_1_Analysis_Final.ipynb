{
  "cells": [
    {
      "cell_type": "markdown",
      "metadata": {
        "id": "VIoB7n6auFwX"
      },
      "source": [
        "# **Project on \"Prediction Flight Delay\"**"
      ]
    },
    {
      "cell_type": "markdown",
      "metadata": {
        "id": "iP1MzxO_uFwY"
      },
      "source": [
        "This project aims to develop a machine learning model to predict the probability of a flight being\n",
        "delayed/cancelled based on historical data. By analysing features such as airline, flight schedules, airport congestion,\n",
        "and seasonal trends, the project seeks to identify key factors contributing to delays and provide customers to have insight\n",
        "on their flight carrier and their journey delay status. The outcome will include a predictive model and UI to get\n",
        "information about the delays and Dashboard for Historical data visualization"
      ]
    },
    {
      "cell_type": "markdown",
      "metadata": {
        "id": "WKDDHKaOuFwY"
      },
      "source": [
        "## **Analysis on Flight Data**"
      ]
    },
    {
      "cell_type": "code",
      "execution_count": 99,
      "metadata": {
        "colab": {
          "base_uri": "https://localhost:8080/"
        },
        "id": "ri11z44XZFDg",
        "outputId": "a8f49164-4b2a-43ce-d83d-9ff282c56db6"
      },
      "outputs": [
        {
          "output_type": "stream",
          "name": "stdout",
          "text": [
            "  FlightDate                 Airline Origin Dest  Cancelled  Diverted  \\\n",
            "0 2018-01-01    Alaska Airlines Inc.    LAX  SEA      False     False   \n",
            "1 2018-01-01  Southwest Airlines Co.    DEN  SFO      False     False   \n",
            "2 2018-01-01   United Air Lines Inc.    DEN  SFO      False     False   \n",
            "3 2018-01-01    Delta Air Lines Inc.    OAK  SLC      False     False   \n",
            "4 2018-01-01   United Air Lines Inc.    DFW  LAX      False     False   \n",
            "\n",
            "   CRSDepTime DepTime  DepDelayMinutes  DepDelay  ...  CRSArrTime  ArrDelay  \\\n",
            "0        2335   00:57             82.0      82.0  ...         233      50.0   \n",
            "1        2225   01:18            173.0     173.0  ...          15     154.0   \n",
            "2         537   05:33              0.0      -4.0  ...         722      -8.0   \n",
            "3         600   05:59              0.0      -1.0  ...         850     -12.0   \n",
            "4         545   05:39              0.0      -6.0  ...         734     -14.0   \n",
            "\n",
            "   ArrDel15  ArrivalDelayGroups  ArrTimeBlk  DistanceGroup  \\\n",
            "0       1.0                 3.0   0001-0559              4   \n",
            "1       1.0                10.0   0001-0559              4   \n",
            "2       0.0                -1.0   0700-0759              4   \n",
            "3       0.0                -1.0   0800-0859              3   \n",
            "4       0.0                -1.0   0700-0759              5   \n",
            "\n",
            "   DivAirportLandings         Day  Hour        Date  \n",
            "0                 0.0  2018-01-01   0.0  2018-01-01  \n",
            "1                 0.0  2018-01-01   1.0  2018-01-01  \n",
            "2                 0.0  2018-01-01   5.0  2018-01-01  \n",
            "3                 0.0  2018-01-01   5.0  2018-01-01  \n",
            "4                 0.0  2018-01-01   5.0  2018-01-01  \n",
            "\n",
            "[5 rows x 64 columns]\n"
          ]
        }
      ],
      "source": [
        "import pandas as pd\n",
        "\n",
        "# Read the parquet file\n",
        "df = pd.read_parquet(\"/content/final_sampled_flight_data_all_years.parquet\")\n",
        "\n",
        "# Display the first few rows\n",
        "print(df.head())\n"
      ]
    },
    {
      "cell_type": "markdown",
      "metadata": {
        "id": "pW4PBctf7xm_"
      },
      "source": [
        "### **Checking Null Values in Dataset**"
      ]
    },
    {
      "cell_type": "code",
      "execution_count": 100,
      "metadata": {
        "colab": {
          "base_uri": "https://localhost:8080/"
        },
        "id": "OkInYb6wZo0B",
        "outputId": "b6f0fc5f-d450-4861-ca6d-3cf8d916b331"
      },
      "outputs": [
        {
          "output_type": "stream",
          "name": "stdout",
          "text": [
            "FlightDate                                 0\n",
            "Airline                                    0\n",
            "Origin                                     0\n",
            "Dest                                       0\n",
            "Cancelled                                  0\n",
            "Diverted                                   0\n",
            "CRSDepTime                                 0\n",
            "DepTime                                    0\n",
            "DepDelayMinutes                            0\n",
            "DepDelay                                   0\n",
            "ArrTime                                    0\n",
            "ArrDelayMinutes                            0\n",
            "AirTime                                    0\n",
            "CRSElapsedTime                             0\n",
            "ActualElapsedTime                          0\n",
            "Distance                                   0\n",
            "Year                                       0\n",
            "Quarter                                    0\n",
            "Month                                      0\n",
            "DayofMonth                                 0\n",
            "DayOfWeek                                  0\n",
            "Marketing_Airline_Network                  0\n",
            "Operated_or_Branded_Code_Share_Partners    0\n",
            "DOT_ID_Marketing_Airline                   0\n",
            "IATA_Code_Marketing_Airline                0\n",
            "Flight_Number_Marketing_Airline            0\n",
            "Operating_Airline                          0\n",
            "DOT_ID_Operating_Airline                   0\n",
            "IATA_Code_Operating_Airline                0\n",
            "Tail_Number                                0\n",
            "Flight_Number_Operating_Airline            0\n",
            "OriginAirportID                            0\n",
            "OriginAirportSeqID                         0\n",
            "OriginCityMarketID                         0\n",
            "OriginCityName                             0\n",
            "OriginState                                0\n",
            "OriginStateFips                            0\n",
            "OriginStateName                            0\n",
            "OriginWac                                  0\n",
            "DestAirportID                              0\n",
            "DestAirportSeqID                           0\n",
            "DestCityMarketID                           0\n",
            "DestCityName                               0\n",
            "DestState                                  0\n",
            "DestStateFips                              0\n",
            "DestStateName                              0\n",
            "DestWac                                    0\n",
            "DepDel15                                   0\n",
            "DepartureDelayGroups                       0\n",
            "DepTimeBlk                                 0\n",
            "TaxiOut                                    0\n",
            "WheelsOff                                  0\n",
            "WheelsOn                                   0\n",
            "TaxiIn                                     0\n",
            "CRSArrTime                                 0\n",
            "ArrDelay                                   0\n",
            "ArrDel15                                   0\n",
            "ArrivalDelayGroups                         0\n",
            "ArrTimeBlk                                 0\n",
            "DistanceGroup                              0\n",
            "DivAirportLandings                         0\n",
            "Day                                        0\n",
            "Hour                                       0\n",
            "Date                                       0\n",
            "dtype: int64\n"
          ]
        }
      ],
      "source": [
        "# Check for null values in each column\n",
        "null_values = df.isnull().sum()\n",
        "\n",
        "# Display null values\n",
        "print(null_values)"
      ]
    },
    {
      "cell_type": "code",
      "execution_count": null,
      "metadata": {
        "id": "DBjibfFJaOSK"
      },
      "outputs": [],
      "source": [
        "df  = df.iloc[:]\n",
        "\n",
        "display(df)\n"
      ]
    },
    {
      "cell_type": "markdown",
      "metadata": {
        "id": "okoSiMrJ75wT"
      },
      "source": [
        "### **Total Rows and Columns in DataSet**"
      ]
    },
    {
      "cell_type": "code",
      "execution_count": null,
      "metadata": {
        "id": "vIifqc1CZpUk"
      },
      "outputs": [],
      "source": [
        "# Get the number of rows and columns\n",
        "rows, columns = df.shape\n",
        "\n",
        "# Display the result\n",
        "print(f\"Total Rows: {rows}\")\n",
        "print(f\"Total Columns: {columns}\")"
      ]
    },
    {
      "cell_type": "code",
      "execution_count": null,
      "metadata": {
        "id": "zB5lI32McBIe"
      },
      "outputs": [],
      "source": [
        "# Get all column names\n",
        "columns = df.columns\n",
        "\n",
        "# Count total number of columns\n",
        "column_count = len(columns)\n",
        "\n",
        "# Display column names and count\n",
        "print(f\"Total Columns: {column_count}\")\n",
        "print(\"Column Names:\")\n",
        "print(columns.tolist())"
      ]
    },
    {
      "cell_type": "markdown",
      "metadata": {
        "id": "bmKHOOeE8TkT"
      },
      "source": [
        "# **Define the required columns (replace \"Delayed\" with \"ArrDel15\")**"
      ]
    },
    {
      "cell_type": "markdown",
      "metadata": {
        "id": "egrl-aUye-Wr"
      },
      "source": [
        "Columns Removed from the Original Dataset\n",
        "The following columns were removed because they are not in the required list:\n",
        "\n",
        "Marketing_Airline_Network\n",
        "Operated_or_Branded_Code_Share_Partners\n",
        "DOT_ID_Marketing_Airline\n",
        "IATA_Code_Marketing_Airline\n",
        "Flight_Number_Marketing_Airline\n",
        "DOT_ID_Operating_Airline\n",
        "IATA_Code_Operating_Airline\n",
        "Tail_Number\n",
        "Flight_Number_Operating_Airline\n",
        "OriginAirportSeqID\n",
        "OriginCityMarketID\n",
        "OriginState\n",
        "OriginStateFips\n",
        "OriginWac\n",
        "DestAirportSeqID\n",
        "DestCityMarketID\n",
        "DestStateFips\n",
        "DestWac\n",
        "DepTimeBlk\n",
        "WheelsOn\n",
        "ArrTimeBlk\n",
        "DivAirportLandings\n",
        "Day\n",
        "Hour\n",
        "Date\n",
        "\n",
        "\n",
        "\n",
        "We removed these columns because they mostly contain IDs, codes, or other irrelevant information that do not contribute to your analysis."
      ]
    },
    {
      "cell_type": "code",
      "execution_count": null,
      "metadata": {
        "id": "eEXPQGIafHnr"
      },
      "outputs": [],
      "source": [
        "# Define the required columns (replace \"Delayed\" with \"ArrDel15\")\n",
        "required_columns = [\n",
        "    'FlightDate', 'Airline', 'Origin', 'Dest', 'Cancelled', 'Diverted', 'CRSDepTime', 'DepTime',\n",
        "    'DepDelayMinutes', 'DepDelay', 'ArrTime', 'ArrDelayMinutes', 'AirTime', 'CRSElapsedTime',\n",
        "    'ActualElapsedTime', 'Distance', 'Year', 'Quarter', 'Month', 'DayofMonth', 'DayOfWeek',\n",
        "    'Operating_Airline', 'OriginAirportID', 'OriginCityName', 'OriginStateName', 'DestAirportID',\n",
        "    'DestCityName', 'DestState', 'DestStateName', 'DepDel15', 'DepartureDelayGroups', 'TaxiOut',\n",
        "    'WheelsOff', 'WheelsOn', 'TaxiIn', 'CRSArrTime', 'ArrDelay', 'ArrDel15', 'ArrivalDelayGroups',\n",
        "    'DistanceGroup'\n",
        "]\n",
        "\n",
        "# Filter the DataFrame with required columns\n",
        "df_filtered = df[required_columns].copy()\n",
        "\n",
        "# Create a new \"Delayed\" column based on \"ArrDel15\"\n",
        "df_filtered['Delayed'] = df_filtered['ArrDel15'].fillna(0).astype(int)\n",
        "\n",
        "# Save the updated DataFrame to a new CSV file\n",
        "df_filtered.to_csv(\"filtered_output.csv\", index=False)\n",
        "\n",
        "print(\"Filtered CSV file saved successfully.\")\n",
        "print(\"Remaining Columns:\", df_filtered.columns.tolist())\n"
      ]
    },
    {
      "cell_type": "markdown",
      "metadata": {
        "id": "rwfP4EfpuFwb"
      },
      "source": [
        "### **Newly Filtered Dataframe**"
      ]
    },
    {
      "cell_type": "code",
      "execution_count": null,
      "metadata": {
        "id": "nnY8ZBlKhX8j"
      },
      "outputs": [],
      "source": [
        "df_new = pd.read_csv(\"//content//filtered_output.csv\")\n",
        "\n",
        "# Display the first few rows\n",
        "print(df_new.head())\n",
        "\n",
        "# Check the shape (rows, columns)\n",
        "print(f\"Dataset contains {df_new.shape[0]} rows and {df_new.shape[1]} columns.\")"
      ]
    },
    {
      "cell_type": "markdown",
      "metadata": {
        "id": "NddKXE-cuFwb"
      },
      "source": [
        "### **Total Rows and Columns From Newly Dataframe**"
      ]
    },
    {
      "cell_type": "code",
      "execution_count": null,
      "metadata": {
        "id": "lYd7EK_ziFrX"
      },
      "outputs": [],
      "source": [
        "# Get the number of rows and columns\n",
        "rows, columns = df_new.shape\n",
        "\n",
        "# Display the result\n",
        "print(f\"Total Rows: {rows}\")\n",
        "print(f\"Total Columns: {columns}\")\n"
      ]
    },
    {
      "cell_type": "markdown",
      "metadata": {
        "id": "Bbdht7V-uFwb"
      },
      "source": [
        "### **Number of Rows Per Year and Month**"
      ]
    },
    {
      "cell_type": "code",
      "execution_count": null,
      "metadata": {
        "id": "cYmm9swRiTPI"
      },
      "outputs": [],
      "source": [
        "# Count the number of rows per year and month\n",
        "rows_per_month = df_new.groupby(['Year', 'Month']).size()\n",
        "\n",
        "# Display the result\n",
        "print(\"Rows per Month:\\n\", rows_per_month)\n"
      ]
    },
    {
      "cell_type": "markdown",
      "metadata": {
        "id": "QQFmp443uFwb"
      },
      "source": [
        "### **Unique Values from Categorical Columns**"
      ]
    },
    {
      "cell_type": "code",
      "execution_count": null,
      "metadata": {
        "id": "ys2meK_SjE2K"
      },
      "outputs": [],
      "source": [
        "# Step 3: Categorical Columns Analysis\n",
        "print(\"\\nCategorical columns analysis:\")\n",
        "print(df_new.select_dtypes(include=['object']).nunique())\n",
        "\n",
        "## It is good to do One_hot_encoding  with this catagorical columns"
      ]
    },
    {
      "cell_type": "markdown",
      "metadata": {
        "id": "wH3iHuTY8gEf"
      },
      "source": [
        "## **Percentage Delayed vs non-delayed flights**\n",
        "\n",
        "> Add blockquote\n",
        "\n",
        "\n"
      ]
    },
    {
      "cell_type": "code",
      "execution_count": null,
      "metadata": {
        "id": "AJUTuxNYkbwX"
      },
      "outputs": [],
      "source": [
        "import matplotlib.pyplot as plt\n",
        "\n",
        "# Count occurrences of each category in 'Delayed' column\n",
        "delayed_counts = df_new['Delayed'].value_counts()\n",
        "\n",
        "# Define labels without actual counts\n",
        "labels = ['Non-Delayed' if val == 0 else 'Delayed' for val in delayed_counts.index]\n",
        "\n",
        "# Define colors\n",
        "colors = ['lightblue', 'salmon']\n",
        "\n",
        "# Create pie chart\n",
        "plt.figure(figsize=(8, 4))\n",
        "plt.pie(delayed_counts, labels=labels, colors=colors, startangle=140,\n",
        "        autopct='%1.1f%%', textprops={'fontsize': 12, 'fontweight': 'bold'},\n",
        "        wedgeprops={'edgecolor': 'black'})\n",
        "\n",
        "# Add title\n",
        "plt.title('Proportion of Delayed vs Non-delayed Flights', fontsize=14, fontweight='bold')\n",
        "\n",
        "# Show the plot\n",
        "plt.show()"
      ]
    },
    {
      "cell_type": "markdown",
      "metadata": {
        "id": "hkSou5uw8lyS"
      },
      "source": [
        "## **Delayed Percentage per Year**"
      ]
    },
    {
      "cell_type": "code",
      "execution_count": null,
      "metadata": {
        "id": "QH0BxvqRlzWo"
      },
      "outputs": [],
      "source": [
        "import pandas as pd\n",
        "import matplotlib.pyplot as plt\n",
        "import seaborn as sns\n",
        "plt.figure(figsize=(8, 4))\n",
        "# Step 1: Calculate Total Flights and Delayed Flights Per Year\n",
        "df_yearly = df.groupby('Year').agg(\n",
        "    total_flights=('ArrDel15', 'size'),  # Total flights per year\n",
        "    delayed_flights=('ArrDel15', lambda x: (x == 1).sum())  # Count of delayed flights per year\n",
        ").reset_index()\n",
        "\n",
        "# Step 2: Calculate Delayed Percentage per Year\n",
        "df_yearly['delayed_percentage'] = (df_yearly['delayed_flights'] / df_yearly['total_flights']) * 100\n",
        "\n",
        "# Step 3: Sort Data by Year\n",
        "df_yearly = df_yearly.sort_values(by='Year')\n",
        "\n",
        "# Step 4: Create Line Plot with Data Labels\n",
        "plt.figure(figsize=(8, 4))\n",
        "ax = sns.lineplot(x='Year', y='delayed_percentage', data=df_yearly, marker='o', color='b', linewidth=2.5, markersize=8)\n",
        "\n",
        "# Add data labels on points\n",
        "for index, row in df_yearly.iterrows():\n",
        "    ax.text(row['Year'], row['delayed_percentage'] + 0.5,  # Position of the label\n",
        "            f'{row[\"delayed_percentage\"]:.2f}%',  # Format as 2 decimal places\n",
        "            ha='center', va='bottom', fontsize=10, fontweight='bold')  # Styling\n",
        "\n",
        "# Customize plot labels\n",
        "plt.xlabel(\"Year\")\n",
        "plt.ylabel(\"Delayed Percentage (%)\")\n",
        "plt.title(\"Delayed Flight Percentage Per Year (All Years)\")\n",
        "plt.ylim(0, df_yearly['delayed_percentage'].max() + 5)  # Adjust y-axis for better visibility\n",
        "plt.xticks(df_yearly['Year'])  # Show all years on the x-axis\n",
        "plt.grid(True, linestyle='--', alpha=0.5)  # Add grid for better readability\n",
        "\n",
        "# Show the plot\n",
        "plt.show()\n"
      ]
    },
    {
      "cell_type": "markdown",
      "source": [
        "In 2020, flight delays decreased primarily due to the impact of the COVID-19 pandemic, which significantly reduced air travel. Key reasons include:\n",
        "\n",
        "Reduced Air Traffic – Global travel restrictions led to fewer flights, reducing congestion.\n",
        "Flight Cancellations – Airlines canceled many flights, improving schedule efficiency.\n",
        "Fewer Weather-Related Delays – Reduced traffic allowed easier rerouting around bad weather.\n",
        "Less Air Traffic Control (ATC) Congestion – Fewer planes resulted in smoother operations.\n",
        "Shorter Ground Delays – Faster boarding, baggage handling, and taxiing due to lower airport activity."
      ],
      "metadata": {
        "id": "rcpcTHEKspm9"
      }
    },
    {
      "cell_type": "markdown",
      "source": [
        "## **Monthly Average Delay Minutes: Insights from Flight Data Analysis**"
      ],
      "metadata": {
        "id": "K4kSwVWunNiA"
      }
    },
    {
      "cell_type": "code",
      "source": [
        "import pandas as pd\n",
        "monthly_delay = df.groupby('Month')['ArrDelayMinutes'].mean()\n",
        "print(monthly_delay)"
      ],
      "metadata": {
        "id": "_WTnid-amqIk"
      },
      "execution_count": null,
      "outputs": []
    },
    {
      "cell_type": "markdown",
      "source": [
        "(Feb, Jun, July, Aug) thses months has more Delay minutes During Arrival\n",
        "so, these months having more probabilty that Flight is having Arrival Delay"
      ],
      "metadata": {
        "id": "nWLCguYuqYpX"
      }
    },
    {
      "cell_type": "markdown",
      "source": [
        "## **Average of Departure Delay By months**"
      ],
      "metadata": {
        "id": "6Bmp5dKVnDCP"
      }
    },
    {
      "cell_type": "code",
      "source": [
        "monthlyDep_delay = df.groupby('Month')['DepDelayMinutes'].mean()\n",
        "print(monthlyDep_delay)"
      ],
      "metadata": {
        "id": "GmQUwpUQzdY-"
      },
      "execution_count": null,
      "outputs": []
    },
    {
      "cell_type": "markdown",
      "source": [],
      "metadata": {
        "id": "Soee9fvdrHB3"
      }
    },
    {
      "cell_type": "markdown",
      "source": [
        "(Feb, Jun, July) thses months has more Delay minutes During Arrival\n",
        "so, these months having more probabilty that Flight is having Arrival Delay"
      ],
      "metadata": {
        "id": "sAu8KHterMPL"
      }
    },
    {
      "cell_type": "markdown",
      "source": [
        "## **Average Delay by Month**"
      ],
      "metadata": {
        "id": "pkoh1t5brXC-"
      }
    },
    {
      "cell_type": "code",
      "source": [
        "#  Average of DepartureDelay By months\n",
        "import matplotlib.pyplot as plt\n",
        "\n",
        "plt.figure(figsize=(8, 4))\n",
        "monthly_delay.plot(kind='line', marker='o', color='teal', title='Average Delay by Month')\n",
        "monthlyDep_delay.plot(kind='line', marker='o', color='Orange', title='Average Delay by Month')\n",
        "\n",
        "plt.xlabel('Month')\n",
        "plt.ylabel('Average Delay (Minutes)')\n",
        "plt.xticks(range(1, 13), ['Jan', 'Feb', 'Mar', 'Apr', 'May', 'Jun', 'Jul', 'Aug', 'Sep', 'Oct', 'Nov', 'Dec'])\n",
        "plt.grid(True)\n",
        "plt.legend(fontsize=12, loc='upper right')\n",
        "plt.tight_layout()\n",
        "plt.show()"
      ],
      "metadata": {
        "id": "UvwEcgiGm9pc"
      },
      "execution_count": null,
      "outputs": []
    },
    {
      "cell_type": "markdown",
      "source": [
        "Top Reasons for Flight Delays in June, July, and August (U.S. Summer Months)\n",
        "1️⃣ Peak Summer Travel Season – High passenger demand leads to congestion at airports.\n",
        "2️⃣ Air Traffic Congestion – Increased flights cause bottlenecks in the air and on runways.\n",
        "3️⃣ Frequent Thunderstorms – Common in the Midwest and Southeast, causing weather-related delays.\n",
        "4️⃣ Hurricane Season (June–November) – Affects flights, especially in coastal states.\n",
        "5️⃣ Extreme Heat – High temperatures in states like Arizona and Texas impact aircraft performance.\n",
        "6️⃣ Pilot & Crew Shortages – Airlines struggle with staffing, leading to cancellations or delays.\n",
        "7️⃣ Ground Operations Delays – Baggage handling, fueling, and boarding take longer.\n",
        "8️⃣ Knock-On Effect of Delays – Delays at one airport affect schedules at others.\n",
        "\n",
        "Would you like to analyze delays for specific airlines or routes? 🚀✈️"
      ],
      "metadata": {
        "id": "4gWkjcj7sLdl"
      }
    },
    {
      "cell_type": "markdown",
      "metadata": {
        "id": "fEWtArCm81Xn"
      },
      "source": [
        "## **Delayed Percentage per Month**"
      ]
    },
    {
      "cell_type": "code",
      "execution_count": null,
      "metadata": {
        "id": "Yv3Epb50l9te"
      },
      "outputs": [],
      "source": [
        "import pandas as pd\n",
        "import matplotlib.pyplot as plt\n",
        "import seaborn as sns\n",
        "import calendar\n",
        "\n",
        "# Step 1: Calculate Total Flights and Delayed Flights Per Month\n",
        "df_monthly = df_new.groupby('Month').agg(\n",
        "    total_flights=('ArrDel15', 'size'),  # Count total flights per month\n",
        "    delayed_flights=('ArrDel15', lambda x: (x == 1).sum())  # Count delayed flights per month\n",
        ").reset_index()\n",
        "\n",
        "# Step 2: Replace month numbers with month names\n",
        "df_monthly['Month'] = df_monthly['Month'].apply(lambda x: calendar.month_name[x])\n",
        "\n",
        "# Step 3: Calculate Delayed Percentage per Month\n",
        "df_monthly['delayed_percentage'] = (df_monthly['delayed_flights'] / df_monthly['total_flights']) * 100\n",
        "\n",
        "# Step 4: Create Line Plot with Data Labels\n",
        "plt.figure(figsize=(10, 6))\n",
        "ax = sns.lineplot(x='Month', y='delayed_percentage', data=df_monthly, marker='o', linestyle='-', color='b')\n",
        "\n",
        "# Add data labels\n",
        "for index, row in df_monthly.iterrows():\n",
        "    ax.text(index, row['delayed_percentage'] + 0.5,  # Position of the label\n",
        "            f'{row[\"delayed_percentage\"]:.2f}%',  # Format the percentage with 2 decimal places\n",
        "            ha='center', va='bottom', fontsize=10, fontweight='bold')  # Styling\n",
        "\n",
        "# Customize plot labels\n",
        "plt.xlabel(\"Month\")\n",
        "plt.ylabel(\"Delayed Percentage\")\n",
        "plt.title(\"Delayed Percentage per Month\")\n",
        "plt.xticks(rotation=45)  # Rotate month names for better visibility\n",
        "plt.ylim(0, df_monthly['delayed_percentage'].max() + 5)  # Adjust y-axis for visibility\n",
        "plt.grid(True, linestyle='--', alpha=0.7)\n",
        "\n",
        "# Show the plot\n",
        "plt.show()\n"
      ]
    },
    {
      "cell_type": "markdown",
      "source": [
        "The higher delays in February, June, July, August, and December can be attributed to the following reasons:\n",
        "\n",
        "February – Winter weather disruptions (snowstorms, fog, and icy conditions), especially in North America and Europe, lead to frequent delays.\n",
        "June & July – Start of summer vacation season, leading to higher passenger traffic and congestion at airports. Thunderstorms and hurricanes also cause disruptions.\n",
        "August – Peak summer travel continues, with overcrowding and weather-related delays like hurricanes in some regions.\n",
        "December – Holiday travel surge (Christmas & New Year), coupled with harsh winter conditions, leads to significant delays."
      ],
      "metadata": {
        "id": "DRO0Lqectf28"
      }
    },
    {
      "cell_type": "markdown",
      "metadata": {
        "id": "x5BAyr6i8_Nz"
      },
      "source": [
        "## **Delayed Percentage per Day of the Week**"
      ]
    },
    {
      "cell_type": "code",
      "execution_count": null,
      "metadata": {
        "id": "qEPCWDw2mnXS"
      },
      "outputs": [],
      "source": [
        "import pandas as pd\n",
        "import matplotlib.pyplot as plt\n",
        "import seaborn as sns\n",
        "\n",
        "# Step 1: Calculate Total Flights and Delayed Flights Per Day of the Week\n",
        "df_weekday = df_new.groupby('DayOfWeek').agg(\n",
        "    total_flights=('ArrDel15', 'size'),  # Count total flights per day of the week\n",
        "    delayed_flights=('ArrDel15', lambda x: (x == 1).sum())  # Count delayed flights per day of the week\n",
        ").reset_index()\n",
        "\n",
        "# Step 2: Calculate Delayed Percentage per Day of the Week\n",
        "df_weekday['delayed_percentage'] = (df_weekday['delayed_flights'] / df_weekday['total_flights']) * 100\n",
        "\n",
        "# Step 3: Create Line Plot with Data Labels\n",
        "plt.figure(figsize=(8, 4))\n",
        "ax = sns.lineplot(x='DayOfWeek', y='delayed_percentage', data=df_weekday, marker='o', linestyle='-', color='b')\n",
        "\n",
        "# Add data labels\n",
        "for index, row in df_weekday.iterrows():\n",
        "    ax.text(row['DayOfWeek'], row['delayed_percentage'] + 0.5,  # Position of the label\n",
        "            f'{row[\"delayed_percentage\"]:.2f}%',  # Format with 2 decimal places\n",
        "            ha='center', va='bottom', fontsize=10, fontweight='bold')  # Styling\n",
        "\n",
        "# Customize plot labels\n",
        "plt.xlabel(\"Day of the Week\")\n",
        "plt.ylabel(\"Delayed Percentage\")\n",
        "plt.title(\"Delayed Percentage per Day of the Week\")\n",
        "plt.xticks(df_weekday['DayOfWeek'], labels=['Monday', 'Tuesday', 'Wednesday', 'Thursday', 'Friday', 'Saturday', 'Sunday'])\n",
        "plt.ylim(0, df_weekday['delayed_percentage'].max() + 5)  # Adjust y-axis for visibility\n",
        "plt.grid(True, linestyle='--', alpha=0.7)\n",
        "\n",
        "# Show the plot\n",
        "plt.show()\n"
      ]
    },
    {
      "cell_type": "markdown",
      "source": [
        "The higher delays on Monday, Thursday, Friday, and Sunday can be explained by these factors:\n",
        "\n",
        "Monday – Start of the business week; heavy corporate travel and airport congestion lead to delays.\n",
        "Thursday – Increased mid-week business and leisure travel, causing air traffic congestion.\n",
        "Friday – Peak travel day for weekend trips; high passenger volume leads to airport and runway congestion.\n",
        "Sunday – End of the weekend; travelers returning home cause a surge in flights, increasing the likelihood of delays."
      ],
      "metadata": {
        "id": "ZZpCAwoEt2Y9"
      }
    },
    {
      "cell_type": "markdown",
      "metadata": {
        "id": "wZE2-Fy89D0X"
      },
      "source": [
        "## **Delayed Percentage per Airline**"
      ]
    },
    {
      "cell_type": "code",
      "execution_count": null,
      "metadata": {
        "id": "qR1j7RHFmrSy"
      },
      "outputs": [],
      "source": [
        "import pandas as pd\n",
        "import matplotlib.pyplot as plt\n",
        "import seaborn as sns\n",
        "\n",
        "# Step 1: Calculate Total Flights and Delayed Flights Per Airline\n",
        "df_airline = df_new.groupby('Airline').agg(\n",
        "    total_flights=('ArrDel15', 'size'),  # Count total flights per airline\n",
        "    delayed_flights=('ArrDel15', lambda x: (x == 1).sum())  # Count delayed flights per airline\n",
        ").reset_index()\n",
        "\n",
        "# Step 2: Calculate Delayed Percentage per Airline\n",
        "df_airline['delayed_percentage'] = (df_airline['delayed_flights'] / df_airline['total_flights']) * 100\n",
        "\n",
        "# Step 3: Create Bar Plot with Data Labels\n",
        "plt.figure(figsize=(12, 6))\n",
        "ax = sns.barplot(x='Airline', y='delayed_percentage', data=df_airline, palette='Blues')\n",
        "\n",
        "# Add data labels\n",
        "for index, row in df_airline.iterrows():\n",
        "    ax.text(index, row['delayed_percentage'] + 0.5,  # Position of the label\n",
        "            f'{row[\"delayed_percentage\"]:.2f}%',  # Format with 2 decimal places\n",
        "            ha='center', va='bottom', fontsize=10, fontweight='bold')  # Styling\n",
        "\n",
        "# Customize plot labels\n",
        "plt.xlabel(\"Airline\")\n",
        "plt.ylabel(\"Delayed Percentage\")\n",
        "plt.title(\"Delayed Percentage per Airline\")\n",
        "plt.xticks(rotation=90)  # Rotate airline names for better readability\n",
        "plt.ylim(0, df_airline['delayed_percentage'].max() + 5)  # Adjust y-axis for visibility\n",
        "\n",
        "# Show the plot\n",
        "plt.show()\n"
      ]
    },
    {
      "cell_type": "markdown",
      "metadata": {
        "id": "aqBrDzoT9SzN"
      },
      "source": [
        " ## **Delayed Percentage per Airline**"
      ]
    },
    {
      "cell_type": "code",
      "execution_count": null,
      "metadata": {
        "id": "2DLnMbIcnSvO"
      },
      "outputs": [],
      "source": [
        "import pandas as pd\n",
        "from tabulate import tabulate\n",
        "\n",
        "# Step 1: Calculate Total Flights and Delayed Flights Per Airline\n",
        "df_airline = df_new.groupby('Airline').agg(\n",
        "    total_flights=('ArrDel15', 'size'),  # Count total flights per airline\n",
        "    delayed_flights=('ArrDel15', lambda x: (x == 1).sum())  # Count delayed flights per airline\n",
        ").reset_index()\n",
        "\n",
        "# Step 2: Calculate Delayed Percentage per Airline\n",
        "df_airline['delayed_percentage'] = (df_airline['delayed_flights'] / df_airline['total_flights']) * 100\n",
        "\n",
        "# Step 3: Display as a table\n",
        "df_airline = df_airline.sort_values(by='delayed_percentage', ascending=False)  # Sort by delayed percentage\n",
        "df_airline.rename(columns={\n",
        "    'Airline': 'Airline Name',\n",
        "    'total_flights': 'Total Flights',\n",
        "    'delayed_flights': 'Delayed Flights',\n",
        "    'delayed_percentage': 'Delayed Percentage (%)'\n",
        "}, inplace=True)\n",
        "\n",
        "# Print table format using tabulate for better readability\n",
        "print(tabulate(df_airline, headers='keys', tablefmt='pretty', showindex=False))\n"
      ]
    },
    {
      "cell_type": "markdown",
      "source": [
        "Here are the key points from the airline delay statistics:\n",
        "\n",
        "Peninsula Airways Inc. has the highest delay rate at 39.68%, indicating frequent disruptions.\n",
        "Trans States Airlines (25.7%) and JetBlue Airways (24.49%) also show significant delays.\n",
        "Major airlines like American Airlines, United Airlines, and Delta Air Lines have moderate delay rates (around 11-17%).\n",
        "Budget and regional airlines (e.g., Allegiant Air, Frontier Airlines, and Spirit Airlines) tend to have higher delay percentages due to operational constraints.\n",
        "Hawaiian Airlines (9.69%) and Cape Air (8.19%) have the lowest delays, likely due to limited routes and better weather conditions.\n",
        "Higher delays in smaller airlines may result from fewer backup aircraft, congestion, and limited resources."
      ],
      "metadata": {
        "id": "36aZ0INnuhgi"
      }
    },
    {
      "cell_type": "markdown",
      "source": [
        "## **TOP 10 Origin With Highest Percentage Flight Departure Delay**"
      ],
      "metadata": {
        "id": "c_R9cEbZoCuU"
      }
    },
    {
      "cell_type": "code",
      "source": [
        "import matplotlib.pyplot as plt\n",
        "import seaborn as sns\n",
        "\n",
        "# Compute the average delay probability for each origin and convert it to percentage\n",
        "delay_by_origin = df.groupby(\"Origin\")[\"DepDel15\"].mean() * 100\n",
        "\n",
        "# Select the top 10 origins with the highest percentage flight delay\n",
        "top_10_origin = delay_by_origin.sort_values(ascending=False).head(10)\n",
        "\n",
        "# Plot\n",
        "plt.figure(figsize=(8, 5))\n",
        "sns.barplot(x=top_10_origin.values, y=top_10_origin.index, palette='viridis')\n",
        "\n",
        "# Format x-axis labels as percentages\n",
        "plt.xticks(ticks=plt.xticks()[0], labels=[f\"{x:.1f}%\" for x in plt.xticks()[0]])\n",
        "\n",
        "# Add labels and title\n",
        "plt.title('Top 10 Origins with Highest Percentage Flight Delay', fontsize=14, fontweight='bold')\n",
        "plt.xlabel('Percentage of Delayed Flights (%)')\n",
        "plt.ylabel('Origin')\n",
        "\n",
        "# Show the plot\n",
        "plt.show()"
      ],
      "metadata": {
        "id": "qJuJ6W-BoGhh"
      },
      "execution_count": null,
      "outputs": []
    },
    {
      "cell_type": "markdown",
      "metadata": {
        "id": "yirQW8ob9ZcG"
      },
      "source": [
        "## **Delayed Percentage per Origin (Arrival Delay)**"
      ]
    },
    {
      "cell_type": "code",
      "execution_count": null,
      "metadata": {
        "id": "CfdfUm5WnXLL"
      },
      "outputs": [],
      "source": [
        "  # Step 1: Calculate Total Flights and Delayed Flights Per Origin\n",
        "  df_origin = df_new.groupby('Origin').agg(\n",
        "      total_flights=('ArrDel15', 'size'),  # Count total flights per origin\n",
        "      delayed_flights=('ArrDel15', lambda x: (x == 1).sum())  # Count delayed flights per origin\n",
        "  ).reset_index()\n",
        "\n",
        "  # Step 2: Calculate Delayed Percentage per Origin\n",
        "  df_origin['delayed_percentage'] = (df_origin['delayed_flights'] / df_origin['total_flights']) * 100\n",
        "\n",
        "  # Step 3: Display all rows sorted by delayed_percentage in descending order\n",
        "  pd.set_option('display.max_rows', None)  # Show all rows\n",
        "  df_origin_display = df_origin.sort_values(by='delayed_percentage', ascending=False)\n",
        "\n",
        "  # Print the table\n",
        "  print(df_origin_display)\n"
      ]
    },
    {
      "cell_type": "markdown",
      "metadata": {
        "id": "3z3BS9IL9iiy"
      },
      "source": [
        "## **Total Flights and Delayed Flights Per Destination**"
      ]
    },
    {
      "cell_type": "code",
      "execution_count": null,
      "metadata": {
        "id": "sf1Lo48ynqbl"
      },
      "outputs": [],
      "source": [
        "# Step 1: Calculate Total Flights and Delayed Flights Per Destination\n",
        "df_dest = df_new.groupby('Dest').agg(\n",
        "    total_flights=('ArrDel15', 'size'),  # Count total flights per destination\n",
        "    delayed_flights=('ArrDel15', lambda x: (x == 1).sum())  # Count delayed flights per destination\n",
        ").reset_index()\n",
        "\n",
        "# Step 2: Calculate Delayed Percentage per Destination\n",
        "df_dest['delayed_percentage'] = (df_dest['delayed_flights'] / df_dest['total_flights']) * 100\n",
        "\n",
        "# Step 3: Display all rows sorted by delayed_percentage in descending order\n",
        "pd.set_option('display.max_rows', None)  # Show all rows\n",
        "df_dest_display = df_dest.sort_values(by='delayed_percentage', ascending=False)\n",
        "\n",
        "# Print the table\n",
        "print(df_dest_display)\n"
      ]
    },
    {
      "cell_type": "markdown",
      "metadata": {
        "id": "_cUgQulQ93Jd"
      },
      "source": [
        "## **Delayed Percentage per Distance Group**"
      ]
    },
    {
      "cell_type": "code",
      "execution_count": null,
      "metadata": {
        "id": "dYrIT7m5og7P"
      },
      "outputs": [],
      "source": [
        "import pandas as pd\n",
        "import matplotlib.pyplot as plt\n",
        "import seaborn as sns\n",
        "\n",
        "# Step 1: Calculate Total Flights and Delayed Flights Per Distance Group\n",
        "df_distance_group = df_new.groupby('DistanceGroup').agg(\n",
        "    total_flights=('ArrDel15', 'size'),  # Count total flights per distance group\n",
        "    delayed_flights=('ArrDel15', lambda x: (x == 1).sum())  # Count delayed flights per distance group\n",
        ").reset_index()\n",
        "\n",
        "# Step 2: Calculate Delayed Percentage per Distance Group\n",
        "df_distance_group['delayed_percentage'] = (df_distance_group['delayed_flights'] / df_distance_group['total_flights']) * 100\n",
        "\n",
        "# Step 3: Map numerical distance groups to actual range labels\n",
        "distance_ranges = {\n",
        "    1: '0-250',\n",
        "    2: '250-500',\n",
        "    3: '500-750',\n",
        "    4: '750-1000',\n",
        "    5: '1000-1250',\n",
        "    6: '1250-1500',\n",
        "    7: '1500-1750',\n",
        "    8: '1750-2000',\n",
        "    9: '2000-2250',\n",
        "    10: '2250-2500',\n",
        "    11: '2500-3000'\n",
        "}\n",
        "\n",
        "# Replace the numerical labels with actual range labels\n",
        "df_distance_group['DistanceRange'] = df_distance_group['DistanceGroup'].map(distance_ranges)\n",
        "\n",
        "# Step 4: Sort the values by delayed percentage\n",
        "df_distance_group = df_distance_group.sort_values(by='delayed_percentage', ascending=False)\n",
        "\n",
        "# Step 5: Make 'DistanceRange' a categorical column with the correct order\n",
        "df_distance_group['DistanceRange'] = pd.Categorical(df_distance_group['DistanceRange'],\n",
        "                                                     categories=['0-250', '250-500', '500-750', '750-1000',\n",
        "                                                                '1000-1250', '1250-1500', '1500-1750',\n",
        "                                                                '1750-2000', '2000-2250', '2250-2500', '2500-3000'],\n",
        "                                                     ordered=True)\n",
        "\n",
        "# Step 6: Create a Bar Plot with Delayed Percentage using the actual distance range labels\n",
        "plt.figure(figsize=(8, 9))\n",
        "sns.barplot(x='DistanceRange', y='delayed_percentage', data=df_distance_group, color='blue')\n",
        "\n",
        "# Add data labels for Delayed Percentage\n",
        "for index, row in df_distance_group.iterrows():\n",
        "    plt.text(index, row['delayed_percentage'] + 0.5,  # Position of the label\n",
        "             f'{row[\"delayed_percentage\"]:.2f}%',  # Format the delayed percentage with 2 decimal places\n",
        "             ha='center', va='bottom', fontsize=10)  # Positioning and font size\n",
        "\n",
        "# Labeling axes and title\n",
        "plt.xlabel(\"Distance Group\")\n",
        "plt.ylabel(\"Delayed Percentage\")\n",
        "plt.title(\"Delayed Percentage per Distance Group\")\n",
        "plt.xticks(rotation=90)\n",
        "plt.show()\n",
        "\n",
        "\n",
        "\n",
        "\"\"\"\n",
        "so here we can see that their is not a pecific pattern with distance group so we can not say that the distance group is the main factor for the delay\n",
        "\"\"\"\n"
      ]
    },
    {
      "cell_type": "markdown",
      "metadata": {
        "id": "1Xq4EmhT0dq2"
      },
      "source": [
        "## **Average Arrival Delay Based on Differrent Periods Of Day**\n"
      ]
    },
    {
      "cell_type": "code",
      "execution_count": null,
      "metadata": {
        "id": "On40bs1Y02-D"
      },
      "outputs": [],
      "source": [
        "import pandas as pd\n",
        "import matplotlib.pyplot as plt\n",
        "\n",
        "# Function to categorize arrival time into blocks\n",
        "def categorize_time(arr_time):\n",
        "    if 600 <= arr_time < 1200:\n",
        "        return 'Day (6 AM - 12 PM)'\n",
        "    elif 1200 <= arr_time < 1800:\n",
        "        return 'Midday (12 PM - 6 PM)'\n",
        "    elif 1800 <= arr_time < 2400:\n",
        "        return 'Night (6 PM - 12 AM)'\n",
        "    else:\n",
        "        return 'Midnight (12 AM - 6 AM)'\n",
        "\n",
        "# Apply the function to create a new column\n",
        "df_new['ArrivalTimeBlock'] = df_new['ArrTime'].apply(categorize_time)\n",
        "\n",
        "# Calculate average delay per time block\n",
        "time_block_delay = df_new.groupby('ArrivalTimeBlock')['ArrDelayMinutes'].mean()\n",
        "\n",
        "# Create a figure with adjusted size and layout\n",
        "plt.figure(figsize=(8, 5))\n",
        "\n",
        "# Plot the bar chart\n",
        "ax = time_block_delay.plot(kind='bar', color='skyblue')\n",
        "\n",
        "# Add data labels on top of bars\n",
        "for p in ax.patches:\n",
        "    ax.annotate(f'{p.get_height():.1f}',  # Format to 1 decimal place\n",
        "                (p.get_x() + p.get_width() / 2, p.get_height()),\n",
        "                ha='center', va='bottom', fontsize=12, fontweight='bold')\n",
        "\n",
        "# Customize the plot\n",
        "plt.xlabel('Arrival Time Block', fontsize=12)\n",
        "plt.ylabel('Average Delay (Minutes)', fontsize=12)\n",
        "plt.title('Average Arrival Delay by Time Block', fontsize=14, fontweight='bold')\n",
        "plt.xticks(rotation=45)\n",
        "\n",
        "# Adjust layout\n",
        "plt.tight_layout()\n",
        "\n",
        "# Show the plot\n",
        "plt.show()\n"
      ]
    },
    {
      "cell_type": "markdown",
      "source": [
        "## **ANALYSIS BASED ON ROUTE**"
      ],
      "metadata": {
        "id": "AfFjYSjpydt0"
      }
    },
    {
      "cell_type": "code",
      "source": [
        "df['Route'] = df['Origin'] + ' → ' + df['Dest']"
      ],
      "metadata": {
        "id": "FsYzVD1syijC"
      },
      "execution_count": null,
      "outputs": []
    },
    {
      "cell_type": "code",
      "source": [
        "route_delay = df.groupby('Route')['ArrDelayMinutes'].mean().reset_index()"
      ],
      "metadata": {
        "id": "WvNcH6eIylE2"
      },
      "execution_count": null,
      "outputs": []
    },
    {
      "cell_type": "markdown",
      "source": [
        "## **Top 20 Routes with Highest Average Arrival Delay**"
      ],
      "metadata": {
        "id": "ayV98P2_3t-w"
      }
    },
    {
      "cell_type": "code",
      "source": [
        "top_20_routes = route_delay.sort_values(by='ArrDelayMinutes', ascending=False).head(20)\n",
        "print(top_20_routes)"
      ],
      "metadata": {
        "id": "p2kLeyEyymtE"
      },
      "execution_count": null,
      "outputs": []
    },
    {
      "cell_type": "code",
      "source": [
        "plt.figure(figsize=(8, 6))\n",
        "plt.barh(top_20_routes['Route'], top_20_routes['ArrDelayMinutes'], color='indianred')\n",
        "plt.xlabel('Average Arrival Delay (Minutes)')\n",
        "plt.ylabel('Route')\n",
        "plt.title('Top 20 Routes with Highest Average Arrival Delay')\n",
        "plt.gca().invert_yaxis()  # Invert y-axis for better readability\n",
        "plt.show()"
      ],
      "metadata": {
        "id": "_sGN7MR6y2jm"
      },
      "execution_count": null,
      "outputs": []
    },
    {
      "cell_type": "markdown",
      "source": [],
      "metadata": {
        "id": "tSNiHDCKy2QJ"
      }
    },
    {
      "cell_type": "markdown",
      "source": [],
      "metadata": {
        "id": "StPdyi1oykrj"
      }
    },
    {
      "cell_type": "markdown",
      "metadata": {
        "id": "y4cpWVm99_x4"
      },
      "source": [
        "## **Feature Correlation with DepDelay and ArrDelay**"
      ]
    },
    {
      "cell_type": "code",
      "execution_count": null,
      "metadata": {
        "id": "7nQ7T5ato7aV"
      },
      "outputs": [],
      "source": [
        "import pandas as pd\n",
        "import seaborn as sns\n",
        "import matplotlib.pyplot as plt\n",
        "from sklearn.preprocessing import LabelEncoder\n",
        "\n",
        "# Step 1: Selecting numerical and categorical columns\n",
        "numerical_cols = df.select_dtypes(include=['int64', 'float64']).columns.tolist()\n",
        "categorical_cols = df.select_dtypes(include=['object']).columns.tolist()\n",
        "\n",
        "# Step 2: Encoding categorical columns using Label Encoding\n",
        "df_encoded = df.copy()  # Create a copy to avoid modifying the original data\n",
        "label_encoders = {}\n",
        "\n",
        "for col in categorical_cols:\n",
        "    label_encoders[col] = LabelEncoder()\n",
        "    df_encoded[col] = label_encoders[col].fit_transform(df_encoded[col])\n",
        "\n",
        "# Step 3: Compute correlation matrix\n",
        "correlation_matrix = df_encoded.corr()\n",
        "\n",
        "# Step 4: Extract correlations of delay-related columns\n",
        "delay_correlations = correlation_matrix[['DepDel15', 'ArrDel15']].sort_values(\n",
        "    by=['DepDel15', 'ArrDel15'], ascending=False\n",
        ")\n",
        "\n",
        "# Step 5: Display top correlated features\n",
        "print(delay_correlations.head(10))\n",
        "\n",
        "# Step 6: Plot the correlation heatmap\n",
        "plt.figure(figsize=(12, 10))\n",
        "sns.heatmap(delay_correlations, annot=True, cmap=\"coolwarm\", fmt=\".2f\")\n",
        "plt.title(\"Feature Correlation with Delays\")\n",
        "plt.show()\n"
      ]
    },
    {
      "cell_type": "markdown",
      "source": [
        "## **ANALYSIS ON TAXI IN AND TAXI OUT**"
      ],
      "metadata": {
        "id": "TGgXmAxW4HaY"
      }
    },
    {
      "cell_type": "markdown",
      "source": [
        "## **Mode of TaxiOut by Month**"
      ],
      "metadata": {
        "id": "v9Sde_rf4P_P"
      }
    },
    {
      "cell_type": "code",
      "source": [
        "import pandas as pd\n",
        "import matplotlib.pyplot as plt\n",
        "\n",
        "# Group by 'Month' and find the mode of 'TaxiOut'\n",
        "taxiout_mode_by_month = df.groupby('Month')['TaxiOut'].agg(lambda x: x.mode()[0])\n",
        "\n",
        "# Plot the mode of TaxiOut by month\n",
        "plt.figure(figsize=(8, 4))\n",
        "plt.plot(taxiout_mode_by_month.index, taxiout_mode_by_month.values, marker='o', linestyle='-', color='purple', label='Mode of TaxiOut')\n",
        "plt.xticks(range(1, 13), ['Jan', 'Feb', 'Mar', 'Apr', 'May', 'Jun', 'Jul', 'Aug', 'Sep', 'Oct', 'Nov', 'Dec'], fontsize=12)\n",
        "plt.xlabel('Month', fontsize=14)\n",
        "plt.ylabel('Mode of TaxiOut (Minutes)', fontsize=14)\n",
        "plt.title('Mode of TaxiOut by Month', fontsize=16, fontweight='bold')\n",
        "plt.grid(True, linestyle='--', alpha=0.7)\n",
        "plt.legend(fontsize=12)\n",
        "plt.tight_layout()\n",
        "plt.show()"
      ],
      "metadata": {
        "id": "YXqh825f4L49"
      },
      "execution_count": null,
      "outputs": []
    },
    {
      "cell_type": "markdown",
      "source": [
        "## **TaxiOut by Month**"
      ],
      "metadata": {
        "id": "UAFNDfFg4d_l"
      }
    },
    {
      "cell_type": "code",
      "source": [
        "# Group by 'Month' and find the mode of 'TaxiOut'\n",
        "taxiout_mode_by_month = df.groupby('Month')['TaxiOut'].mean()\n",
        "\n",
        "# Plot the mode of TaxiOut by month\n",
        "plt.figure(figsize=(8, 5))\n",
        "plt.plot(taxiout_mode_by_month.index, taxiout_mode_by_month.values, marker='o', linestyle='-', color='purple', label='Mode of TaxiOut')\n",
        "plt.xticks(range(1, 13), ['Jan', 'Feb', 'Mar', 'Apr', 'May', 'Jun', 'Jul', 'Aug', 'Sep', 'Oct', 'Nov', 'Dec'], fontsize=12)\n",
        "plt.xlabel('Month', fontsize=14)\n",
        "plt.ylabel('Mean of TaxiOut (Minutes)', fontsize=14)\n",
        "plt.title('TaxiOut by Month', fontsize=16, fontweight='bold')\n",
        "plt.grid(True, linestyle='--', alpha=0.7)\n",
        "plt.legend(fontsize=12)\n",
        "plt.tight_layout()\n",
        "plt.show()"
      ],
      "metadata": {
        "id": "gTgqsmpx4XO9"
      },
      "execution_count": null,
      "outputs": []
    },
    {
      "cell_type": "markdown",
      "source": [],
      "metadata": {
        "id": "PuFxFW9i4S3F"
      }
    },
    {
      "cell_type": "markdown",
      "metadata": {
        "id": "2LixQm1w-QX6"
      },
      "source": [
        "## **Correlation of 'Delayed' with All Numeric Features**"
      ]
    },
    {
      "cell_type": "code",
      "execution_count": null,
      "metadata": {
        "id": "dvAXrF5JrM0a"
      },
      "outputs": [],
      "source": [
        "import pandas as pd\n",
        "import seaborn as sns\n",
        "import matplotlib.pyplot as plt\n",
        "\n",
        "# Step 1: Identify only numerical columns\n",
        "numerical_cols = df_new.select_dtypes(include=['int64', 'float64']).columns.tolist()\n",
        "\n",
        "# Step 2: Compute correlation of 'Delayed' with numerical columns only\n",
        "delayed_correlation = df_new[numerical_cols].corr()[[\"Delayed\"]].sort_values(by=\"Delayed\", ascending=False)\n",
        "\n",
        "# Step 3: Plot heatmap\n",
        "plt.figure(figsize=(8, 10))\n",
        "sns.heatmap(delayed_correlation, annot=True, cmap=\"Reds\", fmt=\".2f\", linewidths=0.5)\n",
        "\n",
        "plt.title(\"Correlation of 'Delayed' with Numeric Features\")\n",
        "plt.show()\n"
      ]
    },
    {
      "cell_type": "markdown",
      "metadata": {
        "id": "6qmVfGhC-WfS"
      },
      "source": [
        "## **Correlation of Numeric Features with 'Delayed**"
      ]
    },
    {
      "cell_type": "code",
      "execution_count": null,
      "metadata": {
        "id": "dT-8_kVWr8nf"
      },
      "outputs": [],
      "source": [
        "import pandas as pd\n",
        "import seaborn as sns\n",
        "import matplotlib.pyplot as plt\n",
        "import scipy.stats as stats\n",
        "\n",
        "# Step 1: Ensure 'Delayed' column exists\n",
        "if 'Delayed' not in df_new.columns:\n",
        "    possible_delay_cols = ['DepDel15', 'ArrDel15', 'DepDelayMinutes', 'ArrDelayMinutes']\n",
        "\n",
        "    for col in possible_delay_cols:\n",
        "        if col in df_new.columns:\n",
        "            print(f\"Using '{col}' as the delay indicator.\")\n",
        "            if col in ['DepDel15', 'ArrDel15']:\n",
        "                df_new = df_new.rename(columns={col: \"Delayed\"})  # Binary column (0/1)\n",
        "            else:\n",
        "                df_new[\"Delayed\"] = (df_new[col] > 15).astype(int)  # Convert minutes to binary\n",
        "            break\n",
        "    else:\n",
        "        raise KeyError(\"No suitable 'Delayed' column found in df_new!\")\n",
        "\n",
        "# Step 2: Identify numerical columns\n",
        "numerical_cols = df_new.select_dtypes(include=['int64', 'float64']).columns.tolist()\n",
        "\n",
        "# Step 3: Compute correlation and p-values for each numerical column with 'Delayed'\n",
        "correlation_values = []\n",
        "p_values = []\n",
        "features = []\n",
        "\n",
        "for col in numerical_cols:\n",
        "    if col != 'Delayed':  # Avoid self-correlation\n",
        "        corr, p_val = stats.pearsonr(df_new[col], df_new['Delayed'])\n",
        "        correlation_values.append(corr)\n",
        "        p_values.append(p_val)\n",
        "        features.append(col)\n",
        "\n",
        "# Step 4: Create DataFrame with correlation and p-values\n",
        "correlation_df = pd.DataFrame({'Feature': features,\n",
        "                               'Correlation': correlation_values,\n",
        "                               'P-Value': p_values})\n",
        "\n",
        "# Step 5: Add significance column\n",
        "correlation_df['Significant'] = correlation_df['P-Value'] < 0.05\n",
        "\n",
        "# Step 6: Add 'Correlation Status' column\n",
        "correlation_df['Correlation Status'] = correlation_df.apply(\n",
        "    lambda row: \"Correlated\" if row['Significant'] and abs(row['Correlation']) > 0.1 else \"Not Correlated\", axis=1\n",
        ")\n",
        "\n",
        "# Step 7: **Sort DataFrame** (Correlated features first)\n",
        "correlation_df = correlation_df.sort_values(by=['Significant', 'Correlation'], ascending=[False, False])\n",
        "\n",
        "# Step 8: Plot heatmap of correlation values\n",
        "plt.figure(figsize=(8, 6))\n",
        "sns.heatmap(correlation_df.set_index('Feature')[['Correlation']], annot=True, cmap='coolwarm', center=0, linewidths=0.5)\n",
        "\n",
        "plt.title(\"Correlation of Numeric Features with 'Delayed'\")\n",
        "plt.show()\n",
        "\n",
        "# Step 9: Print P-values table with correlation status\n",
        "print(\"\\nP-Values for Correlation (Sorted):\")\n",
        "print(correlation_df[['Feature', 'P-Value', 'Significant', 'Correlation Status']])\n"
      ]
    },
    {
      "cell_type": "markdown",
      "source": [
        "## **Correlation Heatmap of Taxi Times and Delays**"
      ],
      "metadata": {
        "id": "ZYwD_is-71aF"
      }
    },
    {
      "cell_type": "code",
      "source": [
        "# Compute correlation matrix\n",
        "correlation_matrix = df_new[['TaxiIn', 'TaxiOut', 'Delayed']].corr()\n",
        "\n",
        "# Plot heatmap\n",
        "plt.figure(figsize=(6, 4))\n",
        "sns.heatmap(correlation_matrix, annot=True, cmap=\"coolwarm\", fmt=\".2f\", linewidths=0.5)\n",
        "plt.title(\"Correlation Heatmap of Taxi Times and Delays\")\n",
        "plt.show()"
      ],
      "metadata": {
        "id": "ZaYJIMri7iJt"
      },
      "execution_count": null,
      "outputs": []
    },
    {
      "cell_type": "markdown",
      "metadata": {
        "id": "O0WYXKfa-bLH"
      },
      "source": [
        "## **Top 10 & Bottom 10 Origin-Destination Pairs by Taxi Time**"
      ]
    },
    {
      "cell_type": "code",
      "execution_count": null,
      "metadata": {
        "id": "4eKRIosD2BIW"
      },
      "outputs": [],
      "source": [
        "import matplotlib.pyplot as plt\n",
        "import seaborn as sns\n",
        "import pandas as pd\n",
        "\n",
        "# Step 1: Calculate Median Taxi-In & Taxi-Out Time Per Origin-Destination Pair\n",
        "df_route_taxi = df_new.groupby(['Origin', 'Dest']).agg(\n",
        "    median_taxi_in=('TaxiIn', 'median'),\n",
        "    median_taxi_out=('TaxiOut', 'median')\n",
        ").reset_index()\n",
        "\n",
        "# Step 2: Sort & Get Top 10 (Longest Taxi Times) and Bottom 10 (Shortest Taxi Times)\n",
        "df_top_10 = df_route_taxi.sort_values(by='median_taxi_out', ascending=False).head(10)\n",
        "df_bottom_10 = df_route_taxi.sort_values(by='median_taxi_out', ascending=True).head(10)\n",
        "\n",
        "# Step 3: Merge both datasets for visualization\n",
        "df_selected = pd.concat([df_top_10, df_bottom_10])\n",
        "\n",
        "# Step 4: Create 'Route' Column for Visualization\n",
        "df_selected['Route'] = df_selected['Origin'] + \" → \" + df_selected['Dest']\n",
        "\n",
        "# Step 5: Convert Data to Long Format for Grouped Bar Plot\n",
        "df_selected_melted = df_selected.melt(id_vars=['Route'],\n",
        "                                      value_vars=['median_taxi_in', 'median_taxi_out'],\n",
        "                                      var_name='Taxi Type',\n",
        "                                      value_name='Time (Minutes)')\n",
        "\n",
        "# Step 6: Plot the Data\n",
        "plt.figure(figsize=(8, 5))\n",
        "sns.barplot(x='Route', y='Time (Minutes)', hue='Taxi Type', data=df_selected_melted, palette=['blue', 'orange'])\n",
        "\n",
        "# Step 7: Customize the Plot\n",
        "plt.xlabel(\"Origin → Destination\")\n",
        "plt.ylabel(\"Median Taxi Time (Minutes)\")\n",
        "plt.title(\"Top 10 & Bottom 10 Origin-Destination Pairs by Median Taxi Time\")\n",
        "plt.xticks(rotation=90)  # Rotate route names for better readability\n",
        "plt.legend(title=\"Taxi Type\")\n",
        "\n",
        "# Show the Plot\n",
        "plt.show()\n"
      ]
    },
    {
      "cell_type": "markdown",
      "metadata": {
        "id": "hdtV1Om2-mAC"
      },
      "source": [
        "## **Percentage of Delay Flights with City**"
      ]
    },
    {
      "cell_type": "code",
      "execution_count": null,
      "metadata": {
        "id": "eQ8RHgBm2ygZ"
      },
      "outputs": [],
      "source": [
        "# Group by destination and count the number of delayed flights\n",
        "delayed_by_dest = df_new.groupby('DestCityName')['ArrDel15'].sum().reset_index()\n",
        "\n",
        "# Count total flights per destination\n",
        "total_flights_by_dest = df_new.groupby('DestCityName')['ArrDel15'].count().reset_index()\n",
        "\n",
        "# Merge both dataframes\n",
        "delayed_by_dest = delayed_by_dest.merge(total_flights_by_dest, on='DestCityName', suffixes=('_delayed', '_total'))\n",
        "\n",
        "# Calculate percentage of delayed flights\n",
        "delayed_by_dest['Delay_Percentage'] = (delayed_by_dest['ArrDel15_delayed'] / delayed_by_dest['ArrDel15_total']) * 100\n",
        "\n",
        "# Sort the cities by percentage of delayed flights\n",
        "delayed_by_dest_sorted = delayed_by_dest.sort_values(by='Delay_Percentage', ascending=False)\n",
        "\n",
        "# Print the top 10 cities with the highest percentage of delayed flights\n",
        "print(delayed_by_dest_sorted[['DestCityName', 'Delay_Percentage']].head(10))"
      ]
    },
    {
      "cell_type": "markdown",
      "source": [
        "## **Pair Plot**"
      ],
      "metadata": {
        "id": "1Lu6GW3yNjes"
      }
    },
    {
      "cell_type": "code",
      "source": [
        "import seaborn as sns\n",
        "import matplotlib.pyplot as plt\n",
        "\n",
        "numerical_cols = ['DepDelay', 'ArrDelay', 'TaxiOut', 'TaxiIn', 'AirTime']\n",
        "\n",
        "sns.pairplot(df_new[numerical_cols], diag_kind='kde', corner=True)\n",
        "\n",
        "plt.show()\n"
      ],
      "metadata": {
        "id": "N9i6uoRW4sW0"
      },
      "execution_count": null,
      "outputs": []
    },
    {
      "cell_type": "markdown",
      "metadata": {
        "id": "NglWscFT-gij"
      },
      "source": [
        "## **Feature Categories Based on Correlation with 'Delayed**"
      ]
    },
    {
      "cell_type": "code",
      "execution_count": null,
      "metadata": {
        "id": "Rz-YfrmCtiG9"
      },
      "outputs": [],
      "source": [
        "import pandas as pd\n",
        "import matplotlib.pyplot as plt\n",
        "\n",
        "# Define the categories based on your analysis\n",
        "highly_correlated = ['Month', 'Origin', 'Destination', 'Operating Airline', 'Day of week']\n",
        "medium_correlated = ['TaxiOut', 'TaxiIn', 'WheelsOff', 'CRSDepTime']\n",
        "less_related = ['Remaining Columns ..']  # Remaining columns are grouped here\n",
        "\n",
        "# Create a DataFrame to represent these categories and their counts\n",
        "category_data = {\n",
        "    'Category': ['Highly Correlated', 'Medium Correlated', 'Less Related'],\n",
        "    'Features': [', '.join(highly_correlated), ', '.join(medium_correlated), ', '.join(less_related)],\n",
        "}\n",
        "\n",
        "category_df = pd.DataFrame(category_data)\n",
        "\n",
        "# Plotting the graph\n",
        "plt.figure(figsize=(10, 3))\n",
        "\n",
        "# Create the plot by simply using text to display categories and their features\n",
        "plt.text(0, 0.72, f\"Highly Correlated: {category_df['Features'][0]}\", fontsize=12, ha='left', va='top')\n",
        "plt.text(0, 0.55, f\"Medium Correlated: {category_df['Features'][1]}\", fontsize=12, ha='left', va='top')\n",
        "plt.text(0, 0.38, f\"Less Related: {category_df['Features'][2]}\", fontsize=12, ha='left', va='top')\n",
        "\n",
        "# Remove the axis\n",
        "plt.axis('off')\n",
        "\n",
        "# Customize the plot with title\n",
        "plt.title(\"Feature Categories Based on Correlation with 'Delayed'\", fontsize=14)\n",
        "\n",
        "# Adjust layout to ensure the text fits properly\n",
        "plt.tight_layout()\n",
        "\n",
        "# Show plot\n",
        "plt.show()\n"
      ]
    },
    {
      "cell_type": "markdown",
      "source": [
        "## **Seasonal Analysis of Flight Delays**"
      ],
      "metadata": {
        "id": "W8GODUf5H0Ef"
      }
    },
    {
      "cell_type": "code",
      "source": [
        "df['Season'] = df['Month'].map({\n",
        "    12: 'Winter', 1: 'Winter', 2: 'Winter',\n",
        "    3: 'Spring', 4: 'Spring', 5: 'Spring',\n",
        "    6: 'Summer', 7: 'Summer', 8: 'Summer',\n",
        "    9: 'Fall', 10: 'Fall', 11: 'Fall'\n",
        "})\n",
        "\n",
        "df_seasonal = df.groupby('Season').agg(\n",
        "    total_flights=('DepDel15', 'size'),\n",
        "    delayed_flights=('DepDel15', lambda x: (x == 1).sum())\n",
        ").reset_index()\n",
        "\n",
        "df_seasonal['delayed_percentage'] = (df_seasonal['delayed_flights'] / df_seasonal['total_flights']) * 100\n",
        "\n",
        "plt.figure(figsize=(8, 5))\n",
        "sns.barplot(x='Season', y='delayed_percentage', data=df_seasonal, palette='coolwarm')\n",
        "plt.xlabel(\"Season\")\n",
        "plt.ylabel(\"Delayed Percentage\")\n",
        "plt.title(\"Seasonal Flight Delay Trends in the US\")\n",
        "plt.grid(True, linestyle=\"--\", alpha=0.7)\n",
        "plt.show()\n"
      ],
      "metadata": {
        "id": "oEaQB-kUHe6W"
      },
      "execution_count": null,
      "outputs": []
    },
    {
      "cell_type": "markdown",
      "source": [
        "Flights tend to experience more delays in both summer and winter due to different reasons:\n",
        "\n",
        "Summer Delays: Caused by increased air traffic, thunderstorms, hurricanes, and high temperatures affecting aircraft performance.\n",
        "Winter Delays: Result from snowstorms, icy runways, de-icing procedures, and reduced visibility due to fog."
      ],
      "metadata": {
        "id": "trr9903JJec_"
      }
    },
    {
      "cell_type": "markdown",
      "source": [
        "## **Quarterly Analysis of Delays**"
      ],
      "metadata": {
        "id": "VvMzCNPCIGuH"
      }
    },
    {
      "cell_type": "code",
      "source": [
        "df['Quarter'] = df['Month'].map({1: 'Q1', 2: 'Q1', 3: 'Q1',\n",
        "                                 4: 'Q2', 5: 'Q2', 6: 'Q2',\n",
        "                                 7: 'Q3', 8: 'Q3', 9: 'Q3',\n",
        "                                 10: 'Q4', 11: 'Q4', 12: 'Q4'})\n",
        "\n",
        "df_quarterly = df.groupby('Quarter').agg(\n",
        "    total_flights=('DepDel15', 'size'),\n",
        "    delayed_flights=('DepDel15', lambda x: (x == 1).sum())\n",
        ").reset_index()\n",
        "\n",
        "df_quarterly['delayed_percentage'] = (df_quarterly['delayed_flights'] / df_quarterly['total_flights']) * 100\n",
        "\n",
        "plt.figure(figsize=(8, 5))\n",
        "sns.barplot(x='Quarter', y='delayed_percentage', data=df_quarterly, palette='viridis')\n",
        "plt.xlabel(\"Quarter\")\n",
        "plt.ylabel(\"Delayed Percentage\")\n",
        "plt.title(\"Quarterly Flight Delay Trends in the US\")\n",
        "plt.grid(True, linestyle=\"--\", alpha=0.7)\n",
        "plt.show()\n"
      ],
      "metadata": {
        "id": "MYfDLdDCIJ__"
      },
      "execution_count": null,
      "outputs": []
    },
    {
      "cell_type": "markdown",
      "source": [
        "Conclusion\n",
        "✅ Q2 (April-June) and Q3 (July-September) have higher delays due to:\n",
        "\n",
        "Weather disruptions (spring storms, summer hurricanes, heat waves).\n",
        "High travel demand (vacations, summer holidays).\n",
        "Airport congestion & maintenance work."
      ],
      "metadata": {
        "id": "b1LzAQtdIyj4"
      }
    },
    {
      "cell_type": "markdown",
      "source": [
        "## **Average Taxi-In and Taxi-Out Time by Airline**"
      ],
      "metadata": {
        "id": "PqzNAJi0Mx6c"
      }
    },
    {
      "cell_type": "code",
      "source": [
        "import matplotlib.pyplot as plt\n",
        "import seaborn as sns\n",
        "\n",
        "# Grouping by airline and calculating mean TaxiIn and TaxiOut times\n",
        "airline_taxi_stats = df.groupby(\"Airline\")[[\"TaxiIn\", \"TaxiOut\"]].mean().reset_index()\n",
        "\n",
        "# Plotting the data\n",
        "plt.figure(figsize=(12, 6))\n",
        "sns.barplot(data=airline_taxi_stats.melt(id_vars=[\"Airline\"], var_name=\"Taxi Type\", value_name=\"Time\"),\n",
        "            x=\"Airline\", y=\"Time\", hue=\"Taxi Type\", palette=\"viridis\")\n",
        "\n",
        "plt.title(\"Average Taxi-In and Taxi-Out Time by Airline\")\n",
        "plt.xlabel(\"Airline\")\n",
        "plt.ylabel(\"Average Time (minutes)\")\n",
        "plt.xticks(rotation=90)\n",
        "plt.legend(title=\"Taxi Type\")\n",
        "plt.show()"
      ],
      "metadata": {
        "id": "xeLt60H2J6Nm"
      },
      "execution_count": null,
      "outputs": []
    },
    {
      "cell_type": "markdown",
      "source": [
        "1. Frontier Airlines Inc. - TaxiIn: 10.63 min, TaxiOut: 16.46 min\n",
        "2. Spirit Air Lines - TaxiIn: 9.42 min, TaxiOut: 14.75 min\n",
        "3. Compass Airlines - TaxiIn: 9.33 min, TaxiOut: 18.71 min\n",
        "4. American Airlines Inc. - TaxiIn: 8.78 min, TaxiOut: 17.57 min\n",
        "5. Republic Airlines - TaxiIn: 8.66 min, TaxiOut: 19.53 min\n",
        "6. Envoy Air - TaxiIn: 8.62 min, TaxiOut: 18.00 min\n",
        "7. Virgin America - TaxiIn: 8.54 min, TaxiOut: 19.68 min\n",
        "8. Capital Cargo International - TaxiIn: 8.40 min, TaxiOut: 21.05 min\n",
        "9. Comair Inc. - TaxiIn: 8.21 min, TaxiOut: 19.25 min\n",
        "10. GoJet Airlines, LLC d/b/a United Express - TaxiIn: 8.18 min, TaxiOut: 20.12 min"
      ],
      "metadata": {
        "id": "EcY-oDAUMRyI"
      }
    },
    {
      "cell_type": "markdown",
      "source": [
        "## **Top 10 Origins with Highest Average Taxi-In and Taxi-Out Time**"
      ],
      "metadata": {
        "id": "dK1dM8pMNMYC"
      }
    },
    {
      "cell_type": "code",
      "source": [
        "# Analysis of Top 10 Origins with Highest Average Taxi-In and Taxi-Out Time\n",
        "\n",
        "import matplotlib.pyplot as plt\n",
        "import seaborn as sns\n",
        "\n",
        "# Grouping by origin and calculating mean TaxiIn and TaxiOut times\n",
        "origin_taxi_stats = df.groupby(\"Origin\")[[\"TaxiIn\", \"TaxiOut\"]].mean().reset_index()\n",
        "\n",
        "# Sorting by TaxiIn and TaxiOut in descending order\n",
        "origin_taxi_stats = origin_taxi_stats.sort_values(by=[\"TaxiIn\", \"TaxiOut\"], ascending=[False, False])\n",
        "\n",
        "# Selecting top 10 origins\n",
        "top_10_origins = origin_taxi_stats.head(10)\n",
        "\n",
        "# Plotting the data\n",
        "plt.figure(figsize=(12, 6))\n",
        "sns.barplot(data=top_10_origins.melt(id_vars=[\"Origin\"], var_name=\"Taxi Type\", value_name=\"Time\"),\n",
        "            x=\"Origin\", y=\"Time\", hue=\"Taxi Type\", palette=\"viridis\")\n",
        "\n",
        "plt.title(\"Top 10 Origins with Highest Average Taxi-In and Taxi-Out Time\")\n",
        "plt.xlabel(\"Origin\")\n",
        "plt.ylabel(\"Average Time (minutes)\")\n",
        "plt.legend(title=\"Taxi Type\")\n",
        "plt.show()\n",
        "\n",
        "# List of top 10 origins and their average taxi times with formatted output\n",
        "formatted_list = [\n",
        "    f\"{i+1}. {row[0]} - TaxiIn: {row[1]:.2f} min, TaxiOut: {row[2]:.2f} min\"\n",
        "    for i, row in enumerate(top_10_origins.values.tolist())\n",
        "]\n",
        "\n",
        "for entry in formatted_list:\n",
        "    print(entry)\n"
      ],
      "metadata": {
        "id": "5QNi09eZNBUL"
      },
      "execution_count": null,
      "outputs": []
    },
    {
      "cell_type": "markdown",
      "source": [
        "## **Top 10 Destinations with Highest Average Taxi-In and Taxi-Out Time**"
      ],
      "metadata": {
        "id": "2KsR6IwSNcbm"
      }
    },
    {
      "cell_type": "code",
      "source": [
        "# Analysis of Top 10 Destinations with Highest Average Taxi-In and Taxi-Out Time\n",
        "\n",
        "import matplotlib.pyplot as plt\n",
        "import seaborn as sns\n",
        "\n",
        "# Grouping by destination and calculating mean TaxiIn and TaxiOut times\n",
        "dest_taxi_stats = df.groupby(\"Dest\")[[\"TaxiIn\", \"TaxiOut\"]].mean().reset_index()\n",
        "\n",
        "# Sorting by TaxiIn and TaxiOut in descending order\n",
        "dest_taxi_stats = dest_taxi_stats.sort_values(by=[\"TaxiIn\", \"TaxiOut\"], ascending=[False, False])\n",
        "\n",
        "# Selecting top 10 destinations\n",
        "top_10_dests = dest_taxi_stats.head(10)\n",
        "\n",
        "# Plotting the data\n",
        "plt.figure(figsize=(12, 6))\n",
        "sns.barplot(data=top_10_dests.melt(id_vars=[\"Dest\"], var_name=\"Taxi Type\", value_name=\"Time\"),\n",
        "            x=\"Dest\", y=\"Time\", hue=\"Taxi Type\", palette=\"viridis\")\n",
        "\n",
        "plt.title(\"Top 10 Destinations with Highest Average Taxi-In and Taxi-Out Time\")\n",
        "plt.xlabel(\"Destination\")\n",
        "plt.ylabel(\"Average Time (minutes)\")\n",
        "plt.legend(title=\"Taxi Type\")\n",
        "plt.show()\n",
        "\n",
        "# List of top 10 destinations and their average taxi times with formatted output\n",
        "formatted_list = [\n",
        "    f\"{i+1}. {row[0]} - TaxiIn: {row[1]:.2f} min, TaxiOut: {row[2]:.2f} min\"\n",
        "    for i, row in enumerate(top_10_dests.values.tolist())\n",
        "]\n",
        "\n",
        "for entry in formatted_list:\n",
        "    print(entry)"
      ],
      "metadata": {
        "id": "WE0QfgHLNYKo"
      },
      "execution_count": null,
      "outputs": []
    }
  ],
  "metadata": {
    "colab": {
      "provenance": []
    },
    "kernelspec": {
      "display_name": "Python 3",
      "name": "python3"
    },
    "language_info": {
      "codemirror_mode": {
        "name": "ipython",
        "version": 3
      },
      "file_extension": ".py",
      "mimetype": "text/x-python",
      "name": "python",
      "nbconvert_exporter": "python",
      "pygments_lexer": "ipython3",
      "version": "3.11.4"
    }
  },
  "nbformat": 4,
  "nbformat_minor": 0
}