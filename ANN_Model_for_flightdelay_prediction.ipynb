{
  "metadata": {
    "kernelspec": {
      "name": "glue_pyspark",
      "display_name": "Glue PySpark",
      "language": "python"
    },
    "language_info": {
      "name": "Python_Glue_Session",
      "mimetype": "text/x-python",
      "codemirror_mode": {
        "name": "python",
        "version": 3
      },
      "pygments_lexer": "python3",
      "file_extension": ".py"
    },
    "colab": {
      "provenance": [],
      "gpuType": "T4"
    },
    "accelerator": "GPU"
  },
  "nbformat_minor": 0,
  "nbformat": 4,
  "cells": [
    {
      "cell_type": "code",
      "source": [
        "import pandas as pd\n",
        "from sklearn.model_selection import train_test_split\n",
        "from sklearn.preprocessing import StandardScaler, OneHotEncoder\n",
        "from sklearn.compose import ColumnTransformer\n",
        "from sklearn.pipeline import Pipeline\n",
        "import numpy as np"
      ],
      "metadata": {
        "trusted": true,
        "tags": [],
        "id": "bCzYnIsSRVyy"
      },
      "execution_count": 1,
      "outputs": []
    },
    {
      "cell_type": "code",
      "source": [
        "df = pd.read_parquet(\"/content/2018featured.snappy.parquet\")"
      ],
      "metadata": {
        "trusted": true,
        "tags": [],
        "id": "jDA5xcfGRVy4"
      },
      "execution_count": 2,
      "outputs": []
    },
    {
      "cell_type": "code",
      "source": [
        "bins = [0, 6, 12, 18, 24]\n",
        "labels = ['Night', 'Morning', 'Afternoon', 'Evening']\n",
        "df['SchdDepTimeOfDay'] = pd.cut(df['SchdDepHour'], bins=bins, labels=labels, right=False)"
      ],
      "metadata": {
        "trusted": true,
        "tags": [],
        "id": "YEm8iXeRRVy6"
      },
      "execution_count": 3,
      "outputs": []
    },
    {
      "cell_type": "code",
      "source": [
        "# Define features and target\n",
        "X = df.drop(\"DelayCategory\", axis=1)  # Features\n",
        "y = df[\"DelayCategory\"]  # Target"
      ],
      "metadata": {
        "trusted": true,
        "tags": [],
        "id": "bWdHEHhnRVy8"
      },
      "execution_count": 4,
      "outputs": []
    },
    {
      "cell_type": "code",
      "source": [
        "categorical_cols = ['Airline', 'Origin', 'Dest', 'OriginStateName', 'DestStateName','SchdDepTimeOfDay']"
      ],
      "metadata": {
        "trusted": true,
        "tags": [],
        "id": "49GZ0QCBRVy9"
      },
      "execution_count": 5,
      "outputs": []
    },
    {
      "cell_type": "code",
      "source": [
        "numerical_cols = [\n",
        "    \"SchdDepHour\", \"Year\", \"Quarter\", \"Month\", \"DayofMonth\", \"DayOfWeek\",\n",
        "    \"TaxiOut\", \"WheelsOff\", \"WheelsOn\", \"TaxiIn\", \"SchdArrTime\", \"IsWeekend\"\n",
        "]"
      ],
      "metadata": {
        "trusted": true,
        "tags": [],
        "id": "8WZyHokxRVy-"
      },
      "execution_count": 6,
      "outputs": []
    },
    {
      "cell_type": "code",
      "source": [
        "# Preprocessing pipeline\n",
        "preprocessor = ColumnTransformer(\n",
        "    transformers=[\n",
        "        (\"num\", StandardScaler(), numerical_cols),  # Scale numerical features\n",
        "        (\"cat\", OneHotEncoder(handle_unknown=\"ignore\"), categorical_cols),  # One-hot encode categorical features\n",
        "    ]\n",
        ")"
      ],
      "metadata": {
        "trusted": true,
        "tags": [],
        "id": "cySmAHRWRVy_"
      },
      "execution_count": 7,
      "outputs": []
    },
    {
      "cell_type": "code",
      "source": [
        "import pandas as pd\n",
        "from sklearn.model_selection import train_test_split\n",
        "from sklearn.preprocessing import LabelEncoder, OneHotEncoder, StandardScaler\n",
        "from sklearn.compose import ColumnTransformer\n",
        "from sklearn.pipeline import Pipeline\n",
        "from sklearn.ensemble import RandomForestClassifier\n",
        "from sklearn.impute import SimpleImputer\n",
        "from sklearn.metrics import classification_report"
      ],
      "metadata": {
        "trusted": true,
        "tags": [],
        "id": "ropRa8lbRVzA"
      },
      "execution_count": 8,
      "outputs": []
    },
    {
      "cell_type": "code",
      "source": [
        "X_train, X_test, y_train, y_test = train_test_split(X, y, test_size=0.2, random_state=42)"
      ],
      "metadata": {
        "trusted": true,
        "tags": [],
        "id": "BD8NM7VWRVzB"
      },
      "execution_count": 9,
      "outputs": []
    },
    {
      "cell_type": "code",
      "source": [
        "# Apply preprocessing\n",
        "X_train = preprocessor.fit_transform(X_train)\n",
        "X_test = preprocessor.transform(X_test)"
      ],
      "metadata": {
        "trusted": true,
        "tags": [],
        "id": "W_nrX7oKRVzC"
      },
      "execution_count": 10,
      "outputs": []
    },
    {
      "cell_type": "code",
      "source": [
        "# Convert target to numerical labels\n",
        "from sklearn.preprocessing import LabelEncoder\n",
        "\n",
        "label_encoder = LabelEncoder()\n",
        "y_train = label_encoder.fit_transform(y_train)\n",
        "y_test = label_encoder.transform(y_test)"
      ],
      "metadata": {
        "trusted": true,
        "tags": [],
        "id": "bxrkcNxRRVzD"
      },
      "execution_count": 11,
      "outputs": []
    },
    {
      "cell_type": "code",
      "source": [
        "%pip install xgboost pandas scikit-learn"
      ],
      "metadata": {
        "trusted": true,
        "tags": [],
        "colab": {
          "base_uri": "https://localhost:8080/"
        },
        "id": "p5oUpqZ0RVzE",
        "outputId": "34d0f641-6199-48f9-ff90-bb940e1456a7"
      },
      "execution_count": 12,
      "outputs": [
        {
          "output_type": "stream",
          "name": "stdout",
          "text": [
            "Requirement already satisfied: xgboost in /usr/local/lib/python3.11/dist-packages (2.1.3)\n",
            "Requirement already satisfied: pandas in /usr/local/lib/python3.11/dist-packages (2.2.2)\n",
            "Requirement already satisfied: scikit-learn in /usr/local/lib/python3.11/dist-packages (1.6.1)\n",
            "Requirement already satisfied: numpy in /usr/local/lib/python3.11/dist-packages (from xgboost) (1.26.4)\n",
            "Requirement already satisfied: nvidia-nccl-cu12 in /usr/local/lib/python3.11/dist-packages (from xgboost) (2.21.5)\n",
            "Requirement already satisfied: scipy in /usr/local/lib/python3.11/dist-packages (from xgboost) (1.13.1)\n",
            "Requirement already satisfied: python-dateutil>=2.8.2 in /usr/local/lib/python3.11/dist-packages (from pandas) (2.8.2)\n",
            "Requirement already satisfied: pytz>=2020.1 in /usr/local/lib/python3.11/dist-packages (from pandas) (2025.1)\n",
            "Requirement already satisfied: tzdata>=2022.7 in /usr/local/lib/python3.11/dist-packages (from pandas) (2025.1)\n",
            "Requirement already satisfied: joblib>=1.2.0 in /usr/local/lib/python3.11/dist-packages (from scikit-learn) (1.4.2)\n",
            "Requirement already satisfied: threadpoolctl>=3.1.0 in /usr/local/lib/python3.11/dist-packages (from scikit-learn) (3.5.0)\n",
            "Requirement already satisfied: six>=1.5 in /usr/local/lib/python3.11/dist-packages (from python-dateutil>=2.8.2->pandas) (1.17.0)\n"
          ]
        }
      ]
    },
    {
      "cell_type": "code",
      "source": [
        "import xgboost as xgb\n",
        "from sklearn.metrics import accuracy_score, classification_report"
      ],
      "metadata": {
        "trusted": true,
        "tags": [],
        "id": "CNOwqUw2RVzE"
      },
      "execution_count": 13,
      "outputs": []
    },
    {
      "cell_type": "code",
      "source": [
        "import numpy as np\n",
        "import tensorflow as tf\n",
        "from tensorflow.keras.models import Sequential\n",
        "from tensorflow.keras.layers import Dense, Dropout\n",
        "from tensorflow.keras.optimizers import Adam\n",
        "from sklearn.metrics import accuracy_score, classification_report\n",
        "\n",
        "# Define the ANN model\n",
        "def build_ann_model(input_shape, num_classes):\n",
        "    model = Sequential()\n",
        "\n",
        "    # Input layer and first hidden layer\n",
        "    model.add(Dense(128, input_shape=(input_shape,), activation='relu'))\n",
        "    # model.add(Dropout(0.2))  # Dropout for regularization\n",
        "\n",
        "    # Second hidden layer\n",
        "    model.add(Dense(64, activation='relu'))\n",
        "    model.add(Dropout(0.2))\n",
        "\n",
        "    # Third hidden layer\n",
        "    model.add(Dense(32, activation='relu'))\n",
        "    model.add(Dropout(0.2))\n",
        "\n",
        "    # Output layer\n",
        "    if num_classes == 2:\n",
        "        model.add(Dense(1, activation='sigmoid'))  # Binary classification\n",
        "    else:\n",
        "        model.add(Dense(num_classes, activation='softmax'))  # Multi-class classification\n",
        "\n",
        "    return model\n",
        "\n",
        "# Define input shape and number of classes\n",
        "input_shape = X_train.shape[1]  # Number of features\n",
        "num_classes = len(np.unique(y_train))  # Number of unique classes in the target variable\n",
        "\n",
        "# Build the model\n",
        "ann_model = build_ann_model(input_shape, num_classes)\n",
        "\n",
        "# Compile the model\n",
        "if num_classes == 2:\n",
        "    ann_model.compile(optimizer=Adam(learning_rate=0.001), loss='binary_crossentropy', metrics=['accuracy'])\n",
        "else:\n",
        "    ann_model.compile(optimizer=Adam(learning_rate=0.001), loss='sparse_categorical_crossentropy', metrics=['accuracy'])\n",
        "\n",
        "# Train the model\n",
        "history = ann_model.fit(\n",
        "    X_train, y_train,\n",
        "    validation_data=(X_test, y_test),\n",
        "    epochs=1,\n",
        "    batch_size=32,\n",
        "    verbose=1\n",
        ")\n",
        "\n",
        "# Evaluate the model\n",
        "y_pred_ann = ann_model.predict(X_test)\n",
        "if num_classes == 2:\n",
        "    y_pred_ann = (y_pred_ann > 0.5).astype(int)  # Convert probabilities to binary predictions\n",
        "else:\n",
        "    y_pred_ann = y_pred_ann.argmax(axis=1)  # Convert probabilities to class labels\n",
        "\n",
        "# Calculate accuracy\n",
        "accuracy_ann = accuracy_score(y_test, y_pred_ann)\n",
        "print(f\"ANN Accuracy: {accuracy_ann:.4f}\")\n",
        "\n",
        "# Print classification report\n",
        "print(classification_report(y_test, y_pred_ann))"
      ],
      "metadata": {
        "colab": {
          "base_uri": "https://localhost:8080/"
        },
        "id": "dEUgxQJZRVzF",
        "outputId": "e0d55703-01cd-4968-ed16-6ce194698301"
      },
      "execution_count": 14,
      "outputs": [
        {
          "output_type": "stream",
          "name": "stderr",
          "text": [
            "/usr/local/lib/python3.11/dist-packages/keras/src/layers/core/dense.py:87: UserWarning: Do not pass an `input_shape`/`input_dim` argument to a layer. When using Sequential models, prefer using an `Input(shape)` object as the first layer in the model instead.\n",
            "  super().__init__(activity_regularizer=activity_regularizer, **kwargs)\n"
          ]
        },
        {
          "output_type": "stream",
          "name": "stdout",
          "text": [
            "\u001b[1m139466/139466\u001b[0m \u001b[32m━━━━━━━━━━━━━━━━━━━━\u001b[0m\u001b[37m\u001b[0m \u001b[1m1506s\u001b[0m 11ms/step - accuracy: 0.9050 - loss: 0.2507 - val_accuracy: 0.9392 - val_loss: 0.1495\n",
            "\u001b[1m34867/34867\u001b[0m \u001b[32m━━━━━━━━━━━━━━━━━━━━\u001b[0m\u001b[37m\u001b[0m \u001b[1m151s\u001b[0m 4ms/step\n",
            "ANN Accuracy: 0.9392\n",
            "              precision    recall  f1-score   support\n",
            "\n",
            "           0       0.64      0.47      0.54     15427\n",
            "           1       0.75      0.57      0.65     44524\n",
            "           2       0.98      0.98      0.98    898467\n",
            "           3       0.78      0.86      0.82    145066\n",
            "           4       0.95      0.72      0.82     12240\n",
            "\n",
            "    accuracy                           0.94   1115724\n",
            "   macro avg       0.82      0.72      0.76   1115724\n",
            "weighted avg       0.94      0.94      0.94   1115724\n",
            "\n"
          ]
        }
      ]
    },
    {
      "cell_type": "code",
      "source": [
        "from sklearn.metrics import f1_score\n",
        "f1 = f1_score(y_test, y_pred_ann, average='weighted')  # Use 'macro' or 'micro' as needed\n",
        "f1"
      ],
      "metadata": {
        "colab": {
          "base_uri": "https://localhost:8080/"
        },
        "id": "tf-S0fJsh20N",
        "outputId": "663ce39d-7b9b-4c1e-da43-a8f300ab56a0"
      },
      "execution_count": 20,
      "outputs": [
        {
          "output_type": "execute_result",
          "data": {
            "text/plain": [
              "0.9377682799242122"
            ]
          },
          "metadata": {},
          "execution_count": 20
        }
      ]
    },
    {
      "cell_type": "code",
      "source": [
        "# Save the trained model in .h5 format\n",
        "ann_model.save('ann_model.h5')\n",
        "print(\"Model saved as 'ann_model.h5'\")"
      ],
      "metadata": {
        "colab": {
          "base_uri": "https://localhost:8080/"
        },
        "id": "q9jTwhRNRVzF",
        "outputId": "d00c8877-bf98-4a2c-f028-a04c079b3723"
      },
      "execution_count": 16,
      "outputs": [
        {
          "output_type": "stream",
          "name": "stderr",
          "text": [
            "WARNING:absl:You are saving your model as an HDF5 file via `model.save()` or `keras.saving.save_model(model)`. This file format is considered legacy. We recommend using instead the native Keras format, e.g. `model.save('my_model.keras')` or `keras.saving.save_model(model, 'my_model.keras')`. \n"
          ]
        },
        {
          "output_type": "stream",
          "name": "stdout",
          "text": [
            "Model saved as 'ann_model.h5'\n"
          ]
        }
      ]
    },
    {
      "cell_type": "code",
      "source": [],
      "metadata": {
        "id": "XBqcHE94RVzF"
      },
      "execution_count": 14,
      "outputs": []
    }
  ]
}