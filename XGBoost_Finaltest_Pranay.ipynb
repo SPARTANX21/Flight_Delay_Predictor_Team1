{
 "cells": [
  {
   "cell_type": "code",
   "execution_count": 1,
   "id": "a085d82d-51d4-4da8-829e-15c639402d27",
   "metadata": {},
   "outputs": [],
   "source": [
    "import pandas as pd\n",
    "from sklearn.model_selection import train_test_split\n",
    "from sklearn.preprocessing import StandardScaler, OneHotEncoder\n",
    "from sklearn.compose import ColumnTransformer\n",
    "from sklearn.pipeline import Pipeline\n",
    "import numpy as np"
   ]
  },
  {
   "cell_type": "code",
   "execution_count": 32,
   "id": "647aaf49-a3a9-4a81-b9fe-63c382c84b46",
   "metadata": {
    "scrolled": true
   },
   "outputs": [],
   "source": [
    "df = pd.read_parquet(\"s3://projectdatagroup1/OmkarSample/SampleInput/TransformedOutput/part-00000-adc4b278-76eb-45ef-afe0-933481911f60-c000.snappy.parquet\")"
   ]
  },
  {
   "cell_type": "code",
   "execution_count": 33,
   "id": "5704dd5f-1a10-4bad-855c-22c09079a650",
   "metadata": {
    "scrolled": true
   },
   "outputs": [
    {
     "data": {
      "text/html": [
       "<div>\n",
       "<style scoped>\n",
       "    .dataframe tbody tr th:only-of-type {\n",
       "        vertical-align: middle;\n",
       "    }\n",
       "\n",
       "    .dataframe tbody tr th {\n",
       "        vertical-align: top;\n",
       "    }\n",
       "\n",
       "    .dataframe thead th {\n",
       "        text-align: right;\n",
       "    }\n",
       "</style>\n",
       "<table border=\"1\" class=\"dataframe\">\n",
       "  <thead>\n",
       "    <tr style=\"text-align: right;\">\n",
       "      <th></th>\n",
       "      <th>Airline</th>\n",
       "      <th>Origin</th>\n",
       "      <th>Dest</th>\n",
       "      <th>Cancelled</th>\n",
       "      <th>Diverted</th>\n",
       "      <th>Year</th>\n",
       "      <th>Quarter</th>\n",
       "      <th>Month</th>\n",
       "      <th>DayofMonth</th>\n",
       "      <th>DayOfWeek</th>\n",
       "      <th>...</th>\n",
       "      <th>WheelsOff</th>\n",
       "      <th>WheelsOn</th>\n",
       "      <th>TaxiIn</th>\n",
       "      <th>SchdArrTime</th>\n",
       "      <th>Day</th>\n",
       "      <th>Hour</th>\n",
       "      <th>Date</th>\n",
       "      <th>__index_level_0__</th>\n",
       "      <th>SchdDepHour</th>\n",
       "      <th>DelayCategory</th>\n",
       "    </tr>\n",
       "  </thead>\n",
       "  <tbody>\n",
       "    <tr>\n",
       "      <th>0</th>\n",
       "      <td>Alaska Airlines Inc.</td>\n",
       "      <td>LAX</td>\n",
       "      <td>SEA</td>\n",
       "      <td>False</td>\n",
       "      <td>False</td>\n",
       "      <td>2018</td>\n",
       "      <td>1</td>\n",
       "      <td>1</td>\n",
       "      <td>1</td>\n",
       "      <td>1</td>\n",
       "      <td>...</td>\n",
       "      <td>110.0</td>\n",
       "      <td>317.0</td>\n",
       "      <td>6.0</td>\n",
       "      <td>233</td>\n",
       "      <td>2018-01-01</td>\n",
       "      <td>0.0</td>\n",
       "      <td>2018-01-01</td>\n",
       "      <td>0</td>\n",
       "      <td>23</td>\n",
       "      <td>Short Delay</td>\n",
       "    </tr>\n",
       "    <tr>\n",
       "      <th>1</th>\n",
       "      <td>Southwest Airlines Co.</td>\n",
       "      <td>DEN</td>\n",
       "      <td>SFO</td>\n",
       "      <td>False</td>\n",
       "      <td>False</td>\n",
       "      <td>2018</td>\n",
       "      <td>1</td>\n",
       "      <td>1</td>\n",
       "      <td>1</td>\n",
       "      <td>1</td>\n",
       "      <td>...</td>\n",
       "      <td>132.0</td>\n",
       "      <td>241.0</td>\n",
       "      <td>8.0</td>\n",
       "      <td>15</td>\n",
       "      <td>2018-01-01</td>\n",
       "      <td>1.0</td>\n",
       "      <td>2018-01-01</td>\n",
       "      <td>1</td>\n",
       "      <td>22</td>\n",
       "      <td>Long Delay</td>\n",
       "    </tr>\n",
       "    <tr>\n",
       "      <th>2</th>\n",
       "      <td>United Air Lines Inc.</td>\n",
       "      <td>DEN</td>\n",
       "      <td>SFO</td>\n",
       "      <td>False</td>\n",
       "      <td>False</td>\n",
       "      <td>2018</td>\n",
       "      <td>1</td>\n",
       "      <td>1</td>\n",
       "      <td>1</td>\n",
       "      <td>1</td>\n",
       "      <td>...</td>\n",
       "      <td>546.0</td>\n",
       "      <td>705.0</td>\n",
       "      <td>9.0</td>\n",
       "      <td>722</td>\n",
       "      <td>2018-01-01</td>\n",
       "      <td>5.0</td>\n",
       "      <td>2018-01-01</td>\n",
       "      <td>2</td>\n",
       "      <td>5</td>\n",
       "      <td>No Delay</td>\n",
       "    </tr>\n",
       "    <tr>\n",
       "      <th>3</th>\n",
       "      <td>Delta Air Lines Inc.</td>\n",
       "      <td>OAK</td>\n",
       "      <td>SLC</td>\n",
       "      <td>False</td>\n",
       "      <td>False</td>\n",
       "      <td>2018</td>\n",
       "      <td>1</td>\n",
       "      <td>1</td>\n",
       "      <td>1</td>\n",
       "      <td>1</td>\n",
       "      <td>...</td>\n",
       "      <td>617.0</td>\n",
       "      <td>834.0</td>\n",
       "      <td>4.0</td>\n",
       "      <td>850</td>\n",
       "      <td>2018-01-01</td>\n",
       "      <td>5.0</td>\n",
       "      <td>2018-01-01</td>\n",
       "      <td>3</td>\n",
       "      <td>6</td>\n",
       "      <td>No Delay</td>\n",
       "    </tr>\n",
       "    <tr>\n",
       "      <th>4</th>\n",
       "      <td>United Air Lines Inc.</td>\n",
       "      <td>DFW</td>\n",
       "      <td>LAX</td>\n",
       "      <td>False</td>\n",
       "      <td>False</td>\n",
       "      <td>2018</td>\n",
       "      <td>1</td>\n",
       "      <td>1</td>\n",
       "      <td>1</td>\n",
       "      <td>1</td>\n",
       "      <td>...</td>\n",
       "      <td>556.0</td>\n",
       "      <td>656.0</td>\n",
       "      <td>24.0</td>\n",
       "      <td>734</td>\n",
       "      <td>2018-01-01</td>\n",
       "      <td>5.0</td>\n",
       "      <td>2018-01-01</td>\n",
       "      <td>4</td>\n",
       "      <td>5</td>\n",
       "      <td>No Delay</td>\n",
       "    </tr>\n",
       "  </tbody>\n",
       "</table>\n",
       "<p>5 rows × 23 columns</p>\n",
       "</div>"
      ],
      "text/plain": [
       "                  Airline Origin Dest  Cancelled  Diverted  Year  Quarter  \\\n",
       "0    Alaska Airlines Inc.    LAX  SEA      False     False  2018        1   \n",
       "1  Southwest Airlines Co.    DEN  SFO      False     False  2018        1   \n",
       "2   United Air Lines Inc.    DEN  SFO      False     False  2018        1   \n",
       "3    Delta Air Lines Inc.    OAK  SLC      False     False  2018        1   \n",
       "4   United Air Lines Inc.    DFW  LAX      False     False  2018        1   \n",
       "\n",
       "   Month  DayofMonth  DayOfWeek  ... WheelsOff WheelsOn  TaxiIn  SchdArrTime  \\\n",
       "0      1           1          1  ...     110.0    317.0     6.0          233   \n",
       "1      1           1          1  ...     132.0    241.0     8.0           15   \n",
       "2      1           1          1  ...     546.0    705.0     9.0          722   \n",
       "3      1           1          1  ...     617.0    834.0     4.0          850   \n",
       "4      1           1          1  ...     556.0    656.0    24.0          734   \n",
       "\n",
       "          Day  Hour        Date __index_level_0__  SchdDepHour DelayCategory  \n",
       "0  2018-01-01   0.0  2018-01-01                 0           23   Short Delay  \n",
       "1  2018-01-01   1.0  2018-01-01                 1           22    Long Delay  \n",
       "2  2018-01-01   5.0  2018-01-01                 2            5      No Delay  \n",
       "3  2018-01-01   5.0  2018-01-01                 3            6      No Delay  \n",
       "4  2018-01-01   5.0  2018-01-01                 4            5      No Delay  \n",
       "\n",
       "[5 rows x 23 columns]"
      ]
     },
     "execution_count": 33,
     "metadata": {},
     "output_type": "execute_result"
    }
   ],
   "source": [
    "df.head()"
   ]
  },
  {
   "cell_type": "code",
   "execution_count": 34,
   "id": "6deb1c4e-40c0-40e6-9000-72bde320d676",
   "metadata": {},
   "outputs": [],
   "source": [
    "bins = [0, 6, 12, 18, 24]\n",
    "labels = ['Night', 'Morning', 'Afternoon', 'Evening']\n",
    "df['SchdDepTimeOfDay'] = pd.cut(df['SchdDepHour'], bins=bins, labels=labels, right=False)\n",
    "df[\"IsWeekend\"] = df[\"DayOfWeek\"].apply(lambda x: 1 if x in [6, 7] else 0)"
   ]
  },
  {
   "cell_type": "code",
   "execution_count": 35,
   "id": "3df9d03b-4248-4416-b0f9-6dcc24250397",
   "metadata": {},
   "outputs": [],
   "source": [
    "# Define features and target\n",
    "X = df.drop(columns=[\"DelayCategory\",\"OriginStateName\", \"DestStateName\", \"__index_level_0__\", \"Cancelled\",\"Diverted\", \"Day\", \"Hour\", \"Date\" ], axis=1)  # Features\n",
    "y = df[\"DelayCategory\"]  # Target"
   ]
  },
  {
   "cell_type": "code",
   "execution_count": 36,
   "id": "e4cb86a7-897d-4784-9dc8-0def5817268f",
   "metadata": {},
   "outputs": [
    {
     "data": {
      "text/plain": [
       "Index(['Airline', 'Origin', 'Dest', 'Year', 'Quarter', 'Month', 'DayofMonth',\n",
       "       'DayOfWeek', 'TaxiOut', 'WheelsOff', 'WheelsOn', 'TaxiIn',\n",
       "       'SchdArrTime', 'SchdDepHour', 'SchdDepTimeOfDay', 'IsWeekend'],\n",
       "      dtype='object')"
      ]
     },
     "execution_count": 36,
     "metadata": {},
     "output_type": "execute_result"
    }
   ],
   "source": [
    "X.columns"
   ]
  },
  {
   "cell_type": "code",
   "execution_count": 37,
   "id": "807e2a66-997d-4e2a-9d03-b247e146a132",
   "metadata": {},
   "outputs": [
    {
     "data": {
      "text/plain": [
       "16"
      ]
     },
     "execution_count": 37,
     "metadata": {},
     "output_type": "execute_result"
    }
   ],
   "source": [
    "len(X.columns)"
   ]
  },
  {
   "cell_type": "code",
   "execution_count": 38,
   "id": "cebb65f4-b5dd-4337-9b15-84b60a767980",
   "metadata": {},
   "outputs": [],
   "source": [
    "categorical_cols = ['Airline', 'Origin', 'Dest', 'SchdDepTimeOfDay']\n",
    "numerical_cols = [\n",
    "    \"SchdDepHour\", \"Year\", \"Quarter\", \"Month\", \"DayofMonth\", \"DayOfWeek\",\n",
    "    \"TaxiOut\", \"WheelsOff\", \"WheelsOn\", \"TaxiIn\", \"SchdArrTime\", \"IsWeekend\"\n",
    "]"
   ]
  },
  {
   "cell_type": "code",
   "execution_count": null,
   "id": "6329a414-7a78-4ed2-8ad6-ccf300077d83",
   "metadata": {},
   "outputs": [],
   "source": [
    "# Preprocessing pipeline\n",
    "preprocessor = ColumnTransformer(\n",
    "    transformers=[\n",
    "        (\"num\", StandardScaler(), numerical_cols),  # Scale numerical features\n",
    "        (\"cat\", OneHotEncoder(handle_unknown=\"ignore\"), categorical_cols),  # One-hot encode categorical features\n",
    "    ]\n",
    ")"
   ]
  },
  {
   "cell_type": "markdown",
   "id": "b633cf02-97e0-47d9-ae57-5165a8f3956c",
   "metadata": {},
   "source": [
    "## Preprocessor (PKL/JOBLIB File)"
   ]
  },
  {
   "cell_type": "code",
   "execution_count": 40,
   "id": "d7756e68-51bb-475a-a3b5-b080e03ce73f",
   "metadata": {},
   "outputs": [
    {
     "data": {
      "text/plain": [
       "['preprocessor.joblib']"
      ]
     },
     "execution_count": 40,
     "metadata": {},
     "output_type": "execute_result"
    }
   ],
   "source": [
    "joblib.dump(preprocessor, \"preprocessor.joblib\")"
   ]
  },
  {
   "cell_type": "code",
   "execution_count": 43,
   "id": "c5f0cfc3-ddd4-4e5f-9c9a-61897f71b7a1",
   "metadata": {},
   "outputs": [],
   "source": [
    "import pandas as pd\n",
    "from sklearn.model_selection import train_test_split\n",
    "from sklearn.preprocessing import LabelEncoder, OneHotEncoder, StandardScaler\n",
    "from sklearn.compose import ColumnTransformer\n",
    "from sklearn.pipeline import Pipeline\n",
    "from sklearn.ensemble import RandomForestClassifier\n",
    "from sklearn.impute import SimpleImputer\n",
    "from sklearn.metrics import classification_report"
   ]
  },
  {
   "cell_type": "code",
   "execution_count": 44,
   "id": "c2c65ecb-cbda-4d2b-a1aa-91362e52b05a",
   "metadata": {},
   "outputs": [],
   "source": [
    "X_train, X_test, y_train, y_test = train_test_split(X, y, test_size=0.2, random_state=42)"
   ]
  },
  {
   "cell_type": "code",
   "execution_count": 47,
   "id": "7b42eda4-42b4-4234-a4db-dd7b63ca6252",
   "metadata": {},
   "outputs": [
    {
     "data": {
      "text/plain": [
       "266382      No Delay\n",
       "152972      No Delay\n",
       "600582    Long Delay\n",
       "265628      No Delay\n",
       "399079      No Delay\n",
       "Name: DelayCategory, dtype: object"
      ]
     },
     "execution_count": 47,
     "metadata": {},
     "output_type": "execute_result"
    }
   ],
   "source": [
    "y_train.head()"
   ]
  },
  {
   "cell_type": "code",
   "execution_count": 48,
   "id": "fcd6f853-68ec-4820-8250-d416fca9ee28",
   "metadata": {},
   "outputs": [],
   "source": [
    "# Apply preprocessing\n",
    "X_train = preprocessor.fit_transform(X_train)\n",
    "X_test = preprocessor.transform(X_test)"
   ]
  },
  {
   "cell_type": "code",
   "execution_count": 63,
   "id": "d4f852af-6075-4ee7-966e-1ce1245b8a19",
   "metadata": {},
   "outputs": [
    {
     "data": {
      "text/plain": [
       "<Compressed Sparse Row sparse matrix of dtype 'float64'\n",
       "\twith 9474608 stored elements and shape (592163, 818)>"
      ]
     },
     "execution_count": 63,
     "metadata": {},
     "output_type": "execute_result"
    }
   ],
   "source": [
    "X_train"
   ]
  },
  {
   "cell_type": "code",
   "execution_count": 56,
   "id": "b9c82335-8962-48af-8058-f6d164aade18",
   "metadata": {},
   "outputs": [
    {
     "data": {
      "text/plain": [
       "<Compressed Sparse Row sparse matrix of dtype 'float64'\n",
       "\twith 2368656 stored elements and shape (148041, 818)>"
      ]
     },
     "execution_count": 56,
     "metadata": {},
     "output_type": "execute_result"
    }
   ],
   "source": [
    "X_test"
   ]
  },
  {
   "cell_type": "code",
   "execution_count": 58,
   "id": "52ce1c5e-2e13-41d9-8608-eb727c0c2aea",
   "metadata": {},
   "outputs": [],
   "source": [
    "# Convert target to numerical labels\n",
    "from sklearn.preprocessing import LabelEncoder\n",
    "\n",
    "label_encoder = LabelEncoder()\n",
    "y_train = label_encoder.fit_transform(y_train)\n",
    "y_test = label_encoder.transform(y_test)"
   ]
  },
  {
   "cell_type": "code",
   "execution_count": 64,
   "id": "24712848-08fe-4c44-9b06-c0a31403c3f4",
   "metadata": {
    "scrolled": true
   },
   "outputs": [
    {
     "data": {
      "text/plain": [
       "['label_encoder.joblib']"
      ]
     },
     "execution_count": 64,
     "metadata": {},
     "output_type": "execute_result"
    }
   ],
   "source": [
    "joblib.dump(label_encoder, \"label_encoder.joblib\")"
   ]
  },
  {
   "cell_type": "code",
   "execution_count": 70,
   "id": "e01a2f96-5eaa-4eb2-b812-7fe741df1d32",
   "metadata": {},
   "outputs": [
    {
     "data": {
      "text/plain": [
       "{'Long Delay': 0,\n",
       " 'Medium Delay': 1,\n",
       " 'No Delay': 2,\n",
       " 'Short Delay': 3,\n",
       " 'Very Long Delay': 4}"
      ]
     },
     "execution_count": 70,
     "metadata": {},
     "output_type": "execute_result"
    }
   ],
   "source": [
    "# Save the mapping as a dictionary for reference\n",
    "label_mapping = {class_label: index for index, class_label in enumerate(label_encoder.classes_)}\n",
    "joblib.dump(label_mapping, \"label_encoder.joblib\")\n",
    "label_mapping"
   ]
  },
  {
   "cell_type": "code",
   "execution_count": 65,
   "id": "c9472392-6cc5-4180-afd9-68a67a1d3381",
   "metadata": {},
   "outputs": [
    {
     "name": "stdout",
     "output_type": "stream",
     "text": [
      "Original Label: Long Delay -> Encoded Value: 0\n",
      "Original Label: Medium Delay -> Encoded Value: 1\n",
      "Original Label: No Delay -> Encoded Value: 2\n",
      "Original Label: Short Delay -> Encoded Value: 3\n",
      "Original Label: Very Long Delay -> Encoded Value: 4\n"
     ]
    }
   ],
   "source": [
    "for index, class_label in enumerate(label_encoder.classes_):\n",
    "    print(f\"Original Label: {class_label} -> Encoded Value: {index}\")\n"
   ]
  },
  {
   "cell_type": "code",
   "execution_count": 59,
   "id": "3cc05110-b40a-4785-adc6-85b2352a3cf3",
   "metadata": {},
   "outputs": [
    {
     "data": {
      "text/plain": [
       "array([2, 2, 0, ..., 0, 2, 2])"
      ]
     },
     "execution_count": 59,
     "metadata": {},
     "output_type": "execute_result"
    }
   ],
   "source": [
    "y_train"
   ]
  },
  {
   "cell_type": "code",
   "execution_count": 71,
   "id": "ae75f29e-5ffd-47b2-a447-5b975e5102e1",
   "metadata": {},
   "outputs": [
    {
     "name": "stdout",
     "output_type": "stream",
     "text": [
      "Requirement already satisfied: xgboost in /home/ec2-user/anaconda3/envs/python3/lib/python3.10/site-packages (2.1.4)\n",
      "Requirement already satisfied: pandas in /home/ec2-user/anaconda3/envs/python3/lib/python3.10/site-packages (1.5.3)\n",
      "Requirement already satisfied: scikit-learn in /home/ec2-user/anaconda3/envs/python3/lib/python3.10/site-packages (1.6.1)\n",
      "Requirement already satisfied: numpy in /home/ec2-user/anaconda3/envs/python3/lib/python3.10/site-packages (from xgboost) (1.26.4)\n",
      "Requirement already satisfied: scipy in /home/ec2-user/anaconda3/envs/python3/lib/python3.10/site-packages (from xgboost) (1.15.1)\n",
      "Requirement already satisfied: python-dateutil>=2.8.1 in /home/ec2-user/anaconda3/envs/python3/lib/python3.10/site-packages (from pandas) (2.9.0.post0)\n",
      "Requirement already satisfied: pytz>=2020.1 in /home/ec2-user/anaconda3/envs/python3/lib/python3.10/site-packages (from pandas) (2024.2)\n",
      "Requirement already satisfied: joblib>=1.2.0 in /home/ec2-user/anaconda3/envs/python3/lib/python3.10/site-packages (from scikit-learn) (1.4.2)\n",
      "Requirement already satisfied: threadpoolctl>=3.1.0 in /home/ec2-user/anaconda3/envs/python3/lib/python3.10/site-packages (from scikit-learn) (3.5.0)\n",
      "Requirement already satisfied: six>=1.5 in /home/ec2-user/anaconda3/envs/python3/lib/python3.10/site-packages (from python-dateutil>=2.8.1->pandas) (1.17.0)\n",
      "Note: you may need to restart the kernel to use updated packages.\n"
     ]
    }
   ],
   "source": [
    "%pip install xgboost pandas scikit-learn"
   ]
  },
  {
   "cell_type": "code",
   "execution_count": 72,
   "id": "c1f57c41-7d33-46cc-97b5-a33e5eda85a6",
   "metadata": {},
   "outputs": [],
   "source": [
    "from xgboost import XGBClassifier\n",
    "from sklearn.metrics import accuracy_score, classification_report"
   ]
  },
  {
   "cell_type": "code",
   "execution_count": 20,
   "id": "5327d88f-6591-431e-931b-5afd2e3e3bf2",
   "metadata": {},
   "outputs": [],
   "source": [
    "import boto3\n",
    "import joblib\n",
    "import pickle\n",
    "from xgboost import XGBClassifier\n"
   ]
  },
  {
   "cell_type": "code",
   "execution_count": 24,
   "id": "66d3bcc5-0325-4135-ba96-d66cf0ce1c2a",
   "metadata": {},
   "outputs": [
    {
     "name": "stdout",
     "output_type": "stream",
     "text": [
      "AWS credentials found.\n"
     ]
    }
   ],
   "source": [
    "import boto3\n",
    "\n",
    "session = boto3.Session()\n",
    "credentials = session.get_credentials()\n",
    "\n",
    "if credentials:\n",
    "    print(\"AWS credentials found.\")\n",
    "else:\n",
    "    print(\"AWS credentials NOT found. Run `aws configure` to set up.\")\n"
   ]
  },
  {
   "cell_type": "code",
   "execution_count": 73,
   "id": "ed625f77-3803-4451-99fc-831deab459fd",
   "metadata": {
    "scrolled": true
   },
   "outputs": [
    {
     "name": "stderr",
     "output_type": "stream",
     "text": [
      "/home/ec2-user/anaconda3/envs/python3/lib/python3.10/site-packages/xgboost/core.py:158: UserWarning: [15:23:34] WARNING: /workspace/src/learner.cc:740: \n",
      "Parameters: { \"use_label_encoder\" } are not used.\n",
      "\n",
      "  warnings.warn(smsg, UserWarning)\n"
     ]
    },
    {
     "name": "stdout",
     "output_type": "stream",
     "text": [
      "XGBoost Accuracy: 0.9714\n",
      "              precision    recall  f1-score   support\n",
      "\n",
      "           0       0.90      0.88      0.89      1803\n",
      "           1       0.91      0.87      0.89      5255\n",
      "           2       0.98      0.99      0.99    123670\n",
      "           3       0.92      0.85      0.88     17234\n",
      "           4       0.65      0.16      0.26        79\n",
      "\n",
      "    accuracy                           0.97    148041\n",
      "   macro avg       0.87      0.75      0.78    148041\n",
      "weighted avg       0.97      0.97      0.97    148041\n",
      "\n"
     ]
    }
   ],
   "source": [
    "# Initialize the model\n",
    "xgb = XGBClassifier(random_state=42, use_label_encoder=False, eval_metric='logloss')\n",
    "\n",
    "# Train the model\n",
    "xgb.fit(X_train, y_train)\n",
    "\n",
    "# Predict on the test set\n",
    "y_pred_xgb = xgb.predict(X_test)\n",
    "\n",
    "# Evaluate accuracy\n",
    "accuracy_xgb = accuracy_score(y_test, y_pred_xgb)\n",
    "print(f\"XGBoost Accuracy: {accuracy_xgb:.4f}\")\n",
    "print(classification_report(y_test, y_pred_xgb))"
   ]
  },
  {
   "cell_type": "code",
   "execution_count": 76,
   "id": "d1c8dd52-b214-4436-9cb8-dc489023a4a0",
   "metadata": {},
   "outputs": [
    {
     "name": "stdout",
     "output_type": "stream",
     "text": [
      "Confusion Matrix:\n",
      "[[  1587    203      5      1      7]\n",
      " [   109   4593     32    521      0]\n",
      " [     1      0 122997    672      0]\n",
      " [     0    237   2385  14612      0]\n",
      " [    65      1      0      0     13]]\n"
     ]
    },
    {
     "data": {
      "image/png": "[encoded data removed]",
      "text/plain": [
       "<Figure size 600x500 with 2 Axes>"
      ]
     },
     "metadata": {},
     "output_type": "display_data"
    }
   ],
   "source": [
    "from sklearn.metrics import confusion_matrix, classification_report\n",
    "import seaborn as sns\n",
    "import matplotlib.pyplot as plt\n",
    "\n",
    "# Compute confusion matrix\n",
    "cm = confusion_matrix(y_test, y_pred_xgb)\n",
    "\n",
    "# Retrieve class labels from the label encoder\n",
    "class_labels = label_encoder.classes_  # Gets the original category names\n",
    "\n",
    "# Print confusion matrix\n",
    "print(\"Confusion Matrix:\")\n",
    "print(cm)\n",
    "\n",
    "# Plot confusion matrix\n",
    "plt.figure(figsize=(6, 5))\n",
    "sns.heatmap(cm, annot=True, fmt='d', cmap='Blues', xticklabels=class_labels, yticklabels=class_labels)\n",
    "plt.xlabel('Predicted')\n",
    "plt.ylabel('Actual')\n",
    "plt.title('Confusion Matrix')\n",
    "plt.show()\n"
   ]
  },
  {
   "cell_type": "code",
   "execution_count": 75,
   "id": "62ba88a1-8655-41ad-a1cf-1c53f045ed92",
   "metadata": {},
   "outputs": [
    {
     "name": "stdout",
     "output_type": "stream",
     "text": [
      "Model saved as xgboost_model.joblib\n"
     ]
    }
   ],
   "source": [
    "import joblib\n",
    "\n",
    "# Save the trained model as a joblib file\n",
    "model_filename = \"xgboost_model.joblib\"\n",
    "joblib.dump(xgb, model_filename)\n",
    "\n",
    "print(f\"Model saved as {model_filename}\")\n"
   ]
  },
  {
   "cell_type": "code",
   "execution_count": null,
   "id": "2505b314-1f25-464e-8d54-7761a60c11ab",
   "metadata": {},
   "outputs": [],
   "source": []
  },
  {
   "cell_type": "code",
   "execution_count": null,
   "id": "f08eba0d-b956-4c5c-a0dc-77637092cf66",
   "metadata": {},
   "outputs": [],
   "source": []
  }
 ],
 "metadata": {
  "kernelspec": {
   "display_name": "conda_python3",
   "language": "python",
   "name": "conda_python3"
  },
  "language_info": {
   "codemirror_mode": {
    "name": "ipython",
    "version": 3
   },
   "file_extension": ".py",
   "mimetype": "text/x-python",
   "name": "python",
   "nbconvert_exporter": "python",
   "pygments_lexer": "ipython3",
   "version": "3.10.16"
  }
 },
 "nbformat": 4,
 "nbformat_minor": 5
}
